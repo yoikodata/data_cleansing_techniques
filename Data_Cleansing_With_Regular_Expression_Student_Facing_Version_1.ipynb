{
 "cells": [
  {
   "cell_type": "markdown",
   "metadata": {},
   "source": [
    "![Tracked_Logo](img/logo.png)"
   ]
  },
  {
   "cell_type": "markdown",
   "metadata": {},
   "source": [
    "<h1><center>Welcome to the VidsRUS.io Tracked Case Study</center></h1>\n",
    "\n",
    "<b> In this Track Stop, you've covered regular expressions and how we can make use of them to identify patterns in the dataframe. </b>\n",
    "\n",
    "Throughout these exercises, you'll be applying the knowledge you've established to <b>cleanse data</b> and <b>replace</b> faulty entries.\n",
    "\n",
    "In particular, you'll be making use of the following concepts:\n",
    "\n",
    "<ol>\n",
    "  <li>Regular Expressions</li>\n",
    "  <li>Group By Operations</li>\n",
    "  <li>Function Definitions</li>\n",
    "  <li>Dictionaries</li>\n",
    "  <li>Boolean Evaluations</li>\n",
    "  <li>Matplotlib / Seaborn Visualisations</li>  \n",
    "</ol>\n",
    "\n",
    "Now we know that <b> VidsRUS.io </b> wants to get an improved understanding of the geographical positioning of its clientele. \n",
    "With a limited amount of capital, VidsRUS.io wants to make sure they invest in the areas that promise the highest growth.\n",
    "\n",
    "In this case study, we'll be looking at answering this question for VidsRUS.io's management team.\n",
    "In particular, we'll be making use of the Python Functions you've learnt throughout the Data Cleansing Track Stop.\n",
    "\n",
    "We've included <span style=\"color: purple\"> <b> hints </b></span> for each question that we deem as challenging.\n",
    "\n",
    "If you need <b> *extra* support </b>, reach out to the slack channel #DataCleansing and one of our Track Team will reach out to help out."
   ]
  },
  {
   "cell_type": "markdown",
   "metadata": {},
   "source": [
    "![Tracked_Logo](img/start_running.gif)\n",
    "<b><center>Let's get started!</center></b>"
   ]
  },
  {
   "cell_type": "markdown",
   "metadata": {},
   "source": [
    "<b> Before we start our data cleansing analysis, we'll have to understand what information we have in the dataframes. </b>\n",
    "\n",
    "To do this, we'll first need to import the relevant libraries that allow us to explore our data sources. \n",
    "We'll need to import the following libraries at a minimum.\n",
    "\n",
    "<ol>\n",
    "  <li>Pandas</li>\n",
    "  <li>Matplotlib</li>\n",
    "  <li>Seaborn</li>\n",
    "</ol>\n",
    "\n",
    "<b><span style=\"color: #20b2aa\"> Remember the syntax for importing libraries in Python is: </span>\n",
    "\n",
    "<b> import library </b> \n",
    "<p>    \n",
    "\n",
    "<i>Note: To set reasonable sized plots, don't forget to include the following line of code after you've imported matplotlib.</i>\n",
    "matplotlib.rcParams['figure.figsize'] = (25,5) "
   ]
  },
  {
   "cell_type": "markdown",
   "metadata": {},
   "source": [
    "<b><span style=\"color: #20b2aa\">Place your answer below here </style></b>"
   ]
  },
  {
   "cell_type": "code",
   "execution_count": 1,
   "metadata": {},
   "outputs": [],
   "source": [
    "import pandas as pd\n",
    "import matplotlib.pyplot as plt\n",
    "import matplotlib as mpl\n",
    "import seaborn as sns\n",
    "\n",
    "mpl.rcParams['figure.figsize'] = (25,5)"
   ]
  },
  {
   "cell_type": "markdown",
   "metadata": {},
   "source": [
    "Now that you've imported the libraries, it's time to load this into a dataframe. \n",
    "Load the Customer_Demographic_Data_Cleansing_Required.csv file into a dataframe.\n",
    "\n",
    "Upon loading of this, explore the dataframe briefly.\n",
    "<h3> Question 1 </h3>\n",
    "\n",
    "Identify and print out the following:\n",
    "\n",
    "<li> How many unique regions do we have in the dataset? </li>\n",
    "<li> How many unique States do we have in the dataset? </li>\n",
    "<li> How many unique Zip Codes do we have in the dataset? </li>\n",
    "\n",
    "Note: You may want to use the <b> .unique() </b> function to help you identify the unique entries in each column.\n"
   ]
  },
  {
   "cell_type": "markdown",
   "metadata": {},
   "source": [
    "<b><span style=\"color: #20b2aa\">Place your answer below here </style></b>"
   ]
  },
  {
   "cell_type": "code",
   "execution_count": 2,
   "metadata": {},
   "outputs": [
    {
     "name": "stdout",
     "output_type": "stream",
     "text": [
      "<class 'pandas.core.frame.DataFrame'>\n",
      "RangeIndex: 2200 entries, 0 to 2199\n",
      "Data columns (total 4 columns):\n",
      " #   Column    Non-Null Count  Dtype  \n",
      "---  ------    --------------  -----  \n",
      " 0   CustID    2200 non-null   int64  \n",
      " 1   Region    2200 non-null   object \n",
      " 2   State     2200 non-null   object \n",
      " 3   Zip Code  2125 non-null   float64\n",
      "dtypes: float64(1), int64(1), object(2)\n",
      "memory usage: 68.9+ KB\n"
     ]
    }
   ],
   "source": [
    "demographic = pd.read_csv('C:\\\\Users\\\\14087\\\\Untitled Folder\\\\Customer_Demographic_Data_Cleansing_Required.csv')\n",
    "demographic.info()"
   ]
  },
  {
   "cell_type": "code",
   "execution_count": 3,
   "metadata": {},
   "outputs": [
    {
     "data": {
      "text/html": [
       "<div>\n",
       "<style scoped>\n",
       "    .dataframe tbody tr th:only-of-type {\n",
       "        vertical-align: middle;\n",
       "    }\n",
       "\n",
       "    .dataframe tbody tr th {\n",
       "        vertical-align: top;\n",
       "    }\n",
       "\n",
       "    .dataframe thead th {\n",
       "        text-align: right;\n",
       "    }\n",
       "</style>\n",
       "<table border=\"1\" class=\"dataframe\">\n",
       "  <thead>\n",
       "    <tr style=\"text-align: right;\">\n",
       "      <th></th>\n",
       "      <th>CustID</th>\n",
       "      <th>Region</th>\n",
       "      <th>State</th>\n",
       "      <th>Zip Code</th>\n",
       "    </tr>\n",
       "  </thead>\n",
       "  <tbody>\n",
       "    <tr>\n",
       "      <th>0</th>\n",
       "      <td>100024032</td>\n",
       "      <td>South Atlantic</td>\n",
       "      <td>Virginia</td>\n",
       "      <td>23462.0</td>\n",
       "    </tr>\n",
       "    <tr>\n",
       "      <th>1</th>\n",
       "      <td>100024130</td>\n",
       "      <td>South Atlantic</td>\n",
       "      <td>Virginia</td>\n",
       "      <td>23462.0</td>\n",
       "    </tr>\n",
       "    <tr>\n",
       "      <th>2</th>\n",
       "      <td>100024143</td>\n",
       "      <td>South Atlantic</td>\n",
       "      <td>Virginia</td>\n",
       "      <td>23462.0</td>\n",
       "    </tr>\n",
       "    <tr>\n",
       "      <th>3</th>\n",
       "      <td>100024154</td>\n",
       "      <td>South Atlantic</td>\n",
       "      <td>Virginia</td>\n",
       "      <td>23462.0</td>\n",
       "    </tr>\n",
       "    <tr>\n",
       "      <th>4</th>\n",
       "      <td>100024166</td>\n",
       "      <td>South Atlantic</td>\n",
       "      <td>Virginia</td>\n",
       "      <td>23462.0</td>\n",
       "    </tr>\n",
       "  </tbody>\n",
       "</table>\n",
       "</div>"
      ],
      "text/plain": [
       "      CustID           Region       State  Zip Code\n",
       "0  100024032  South Atlantic    Virginia    23462.0\n",
       "1  100024130  South Atlantic    Virginia    23462.0\n",
       "2  100024143  South Atlantic    Virginia    23462.0\n",
       "3  100024154  South Atlantic    Virginia    23462.0\n",
       "4  100024166  South Atlantic   Virginia     23462.0"
      ]
     },
     "execution_count": 3,
     "metadata": {},
     "output_type": "execute_result"
    }
   ],
   "source": [
    "demographic.head()"
   ]
  },
  {
   "cell_type": "code",
   "execution_count": 4,
   "metadata": {},
   "outputs": [
    {
     "data": {
      "text/plain": [
       "Index(['CustID', 'Region', 'State', 'Zip Code'], dtype='object')"
      ]
     },
     "execution_count": 4,
     "metadata": {},
     "output_type": "execute_result"
    }
   ],
   "source": [
    "demographic.columns"
   ]
  },
  {
   "cell_type": "code",
   "execution_count": 5,
   "metadata": {},
   "outputs": [
    {
     "data": {
      "text/plain": [
       "array(['South Atlantic ', 'Mountain ', 'North Central', 'Pacific ',\n",
       "       'South Central', 'New England ', 'Middle Atlantic '], dtype=object)"
      ]
     },
     "execution_count": 5,
     "metadata": {},
     "output_type": "execute_result"
    }
   ],
   "source": [
    "demographic['Region'].unique()"
   ]
  },
  {
   "cell_type": "code",
   "execution_count": 6,
   "metadata": {},
   "outputs": [
    {
     "data": {
      "text/plain": [
       "array(['Virginia ', 'Virginia  ', 'Virginia   ', 'Florida', 'Florida ',\n",
       "       'Floridar', 'Nevada', 'Nevada ', 'Michigan', 'Wisconsin',\n",
       "       'California', 'Colorado ', 'Colorado  ', 'Colorado', 'Georgia',\n",
       "       'Illinois', 'Missouri', 'Ohio', 'Illinois ', 'Illinois  ',\n",
       "       'Michigan ', 'Michigan  ', 'Indiana ', 'Indiana', 'Wisconsin ',\n",
       "       'Missourey', 'Missouriey', 'Texas', 'Tennessee', 'Connecticut',\n",
       "       'Minnesota', 'North Dakota', 'New York', 'Georgia ', 'Georgia  ',\n",
       "       'New Y0rk', 'New Yorke', 'New York ', 'NewYork', 'New Jersey',\n",
       "       'New Yerk', 'New Jesey', 'Maryland', 'Montana', 'Arizona', 'Utah',\n",
       "       'Oregon', 'Massachusetts', 'Oklahoma', 'Pennsylvania', 'Delaware',\n",
       "       'New Mexico', 'North Carolina', 'Cali', 'Califauna', 'Washington',\n",
       "       'Idaho', 'RhodeIsland', 'Maine', 'Louisiana', 'NewJersey',\n",
       "       'Idahoe', 'Alabama', 'Orregon', 'Nebraska', 'Kentucky', 'Virginia',\n",
       "       ' Virginia', 'Massachuseuss', 'Rhodee Island', 'Rhode Island',\n",
       "       'NewHampshire', 'NewMexico', 'New Hampshire', 'NorthCarolina',\n",
       "       'Mississippi', 'New Jessey', 'Flowida', 'Arizonar',\n",
       "       'South Carolina', 'Alabana', 'Louisianar', 'Nevadar',\n",
       "       'Californiau', 'Arkansas', 'Oklahomer', 'New Jersay',\n",
       "       'Pennsylvania ', 'Pennsylvania  ', 'Iowa', 'Pensylvania',\n",
       "       'Pennsylvaniar', 'South Dakota', 'Wyoming', 'Alarbarma',\n",
       "       'North Caroliner', 'Florider', 'Flowrider', 'New Hampshirer',\n",
       "       'Pennsylvania r', 'Rhodes Island', 'SouthCarolina', 'Florada',\n",
       "       'Oregon  ', 'SouthDakota'], dtype=object)"
      ]
     },
     "execution_count": 6,
     "metadata": {},
     "output_type": "execute_result"
    }
   ],
   "source": [
    "demographic['State'].unique()"
   ]
  },
  {
   "cell_type": "code",
   "execution_count": 7,
   "metadata": {},
   "outputs": [
    {
     "data": {
      "text/plain": [
       "array([23462., 33015., 89030., ..., 30157., 98632.,    nan])"
      ]
     },
     "execution_count": 7,
     "metadata": {},
     "output_type": "execute_result"
    }
   ],
   "source": [
    "demographic['Zip Code'].unique()"
   ]
  },
  {
   "cell_type": "code",
   "execution_count": 8,
   "metadata": {},
   "outputs": [
    {
     "data": {
      "text/plain": [
       "Pacific             392\n",
       "South Central       356\n",
       "North Central       345\n",
       "Middle Atlantic     327\n",
       "Mountain            320\n",
       "South Atlantic      297\n",
       "New England         163\n",
       "Name: Region, dtype: int64"
      ]
     },
     "execution_count": 8,
     "metadata": {},
     "output_type": "execute_result"
    }
   ],
   "source": [
    "demographic['Region'].value_counts()"
   ]
  },
  {
   "cell_type": "code",
   "execution_count": 9,
   "metadata": {},
   "outputs": [
    {
     "data": {
      "text/plain": [
       "California    340\n",
       "Texas         237\n",
       "New York      154\n",
       "Arizona        96\n",
       "Florida        92\n",
       "             ... \n",
       "Florida         1\n",
       "Nevada          1\n",
       "Missourey       1\n",
       "Michigan        1\n",
       "Cali            1\n",
       "Name: State, Length: 105, dtype: int64"
      ]
     },
     "execution_count": 9,
     "metadata": {},
     "output_type": "execute_result"
    }
   ],
   "source": [
    "demographic['State'].value_counts()"
   ]
  },
  {
   "cell_type": "code",
   "execution_count": 10,
   "metadata": {},
   "outputs": [
    {
     "data": {
      "text/plain": [
       "46220.0    8\n",
       "85382.0    7\n",
       "7047.0     7\n",
       "32822.0    6\n",
       "48127.0    6\n",
       "          ..\n",
       "19464.0    1\n",
       "60446.0    1\n",
       "75043.0    1\n",
       "29732.0    1\n",
       "1752.0     1\n",
       "Name: Zip Code, Length: 1132, dtype: int64"
      ]
     },
     "execution_count": 10,
     "metadata": {},
     "output_type": "execute_result"
    }
   ],
   "source": [
    "demographic['Zip Code'].value_counts()"
   ]
  },
  {
   "cell_type": "markdown",
   "metadata": {},
   "source": [
    "<b><span style=\"color: Purple\">What do you observe when you print out the unique entries for the State Column? \n",
    "Put this down below. </style></b>"
   ]
  },
  {
   "cell_type": "code",
   "execution_count": 11,
   "metadata": {},
   "outputs": [],
   "source": [
    "#There are several mispelling/permutations of US states. The length of unique US States is 105 but there are only 50 US Sates"
   ]
  },
  {
   "cell_type": "markdown",
   "metadata": {},
   "source": []
  },
  {
   "cell_type": "markdown",
   "metadata": {},
   "source": [
    "\n",
    "Now each Region in the Dataset can have <u>multiple</u> states.\n",
    "<p>\n",
    "    \n",
    "<b><span style=\"color: #20b2aa\">In other words, ONE Region can have MANY States representative of a *One* to *Many* Relationship.</span></b>\n",
    "\n",
    "From our initial analysis, it is clear that there exists 105 Unique States in America.\n",
    "\n",
    "However, as far as we know, the US *only* has 50 States!\n",
    "\n",
    "This indicates an anomaly in our dataset that we need to address. \n",
    "    \n",
    "With CRM Data, it's very likely that there are errornous entries with respect to the permutations of how states have been named.\n",
    "\n",
    "<h3> Question Two </h3>\n",
    "\n",
    "Using the State and Region Columns in the Dataframe, group these together via the GROUPBY function and the .count() function to identify what states have been grouped together under each respective region.\n",
    "    \n",
    "The function call should look like this:  \n",
    "    \n",
    "   <b> <span style=\"color: #e5aa70\"> dataframe.groupby(['DataFrameColumn1','DataFrameColumn2']).count() </span></b>\n",
    "    \n",
    "   \n",
    "    \n",
    "For a refresher on how to use pandas.groupby refer to the following link: \n",
    "    \n",
    "https://pandas.pydata.org/pandas-docs/stable/reference/api/pandas.DataFrame.groupby.html\n"
   ]
  },
  {
   "cell_type": "markdown",
   "metadata": {},
   "source": [
    "<b><span style=\"color: #20b2aa\">Place your answer below here </style></b>"
   ]
  },
  {
   "cell_type": "code",
   "execution_count": 12,
   "metadata": {
    "tags": []
   },
   "outputs": [
    {
     "data": {
      "text/html": [
       "<div>\n",
       "<style scoped>\n",
       "    .dataframe tbody tr th:only-of-type {\n",
       "        vertical-align: middle;\n",
       "    }\n",
       "\n",
       "    .dataframe tbody tr th {\n",
       "        vertical-align: top;\n",
       "    }\n",
       "\n",
       "    .dataframe thead th {\n",
       "        text-align: right;\n",
       "    }\n",
       "</style>\n",
       "<table border=\"1\" class=\"dataframe\">\n",
       "  <thead>\n",
       "    <tr style=\"text-align: right;\">\n",
       "      <th></th>\n",
       "      <th></th>\n",
       "      <th>CustID</th>\n",
       "      <th>Zip Code</th>\n",
       "    </tr>\n",
       "    <tr>\n",
       "      <th>Region</th>\n",
       "      <th>State</th>\n",
       "      <th></th>\n",
       "      <th></th>\n",
       "    </tr>\n",
       "  </thead>\n",
       "  <tbody>\n",
       "    <tr>\n",
       "      <th rowspan=\"5\" valign=\"top\">Middle Atlantic</th>\n",
       "      <th>New Jersay</th>\n",
       "      <td>3</td>\n",
       "      <td>3</td>\n",
       "    </tr>\n",
       "    <tr>\n",
       "      <th>New Jersey</th>\n",
       "      <td>62</td>\n",
       "      <td>62</td>\n",
       "    </tr>\n",
       "    <tr>\n",
       "      <th>New Jesey</th>\n",
       "      <td>1</td>\n",
       "      <td>1</td>\n",
       "    </tr>\n",
       "    <tr>\n",
       "      <th>New Jessey</th>\n",
       "      <td>2</td>\n",
       "      <td>2</td>\n",
       "    </tr>\n",
       "    <tr>\n",
       "      <th>New Y0rk</th>\n",
       "      <td>1</td>\n",
       "      <td>1</td>\n",
       "    </tr>\n",
       "    <tr>\n",
       "      <th>...</th>\n",
       "      <th>...</th>\n",
       "      <td>...</td>\n",
       "      <td>...</td>\n",
       "    </tr>\n",
       "    <tr>\n",
       "      <th rowspan=\"5\" valign=\"top\">South Central</th>\n",
       "      <th>Mississippi</th>\n",
       "      <td>3</td>\n",
       "      <td>3</td>\n",
       "    </tr>\n",
       "    <tr>\n",
       "      <th>Oklahoma</th>\n",
       "      <td>7</td>\n",
       "      <td>7</td>\n",
       "    </tr>\n",
       "    <tr>\n",
       "      <th>Oklahomer</th>\n",
       "      <td>1</td>\n",
       "      <td>1</td>\n",
       "    </tr>\n",
       "    <tr>\n",
       "      <th>Tennessee</th>\n",
       "      <td>52</td>\n",
       "      <td>52</td>\n",
       "    </tr>\n",
       "    <tr>\n",
       "      <th>Texas</th>\n",
       "      <td>237</td>\n",
       "      <td>233</td>\n",
       "    </tr>\n",
       "  </tbody>\n",
       "</table>\n",
       "<p>105 rows × 2 columns</p>\n",
       "</div>"
      ],
      "text/plain": [
       "                              CustID  Zip Code\n",
       "Region           State                        \n",
       "Middle Atlantic  New Jersay        3         3\n",
       "                 New Jersey       62        62\n",
       "                 New Jesey         1         1\n",
       "                 New Jessey        2         2\n",
       "                 New Y0rk          1         1\n",
       "...                              ...       ...\n",
       "South Central    Mississippi       3         3\n",
       "                 Oklahoma          7         7\n",
       "                 Oklahomer         1         1\n",
       "                 Tennessee        52        52\n",
       "                 Texas           237       233\n",
       "\n",
       "[105 rows x 2 columns]"
      ]
     },
     "execution_count": 12,
     "metadata": {},
     "output_type": "execute_result"
    }
   ],
   "source": [
    "demographic.groupby(['Region', 'State']).count()"
   ]
  },
  {
   "cell_type": "markdown",
   "metadata": {},
   "source": [
    "So it seems that we can see multiple permutations of the same State.\n",
    "\n",
    "Say for example, the below entries:\n",
    "<b>\n",
    "<li> New Jersay </li>\n",
    "<li> New Jersey </li>\n",
    "<li> New Jessey </li>\n",
    "<li> New Jesey </li>\n",
    "</b>\n",
    "\n",
    "Clearly, they're meant to all be *New Jersey*.\n",
    "\n",
    "However, we can see that with the data - there have been some mistyped entries. \n",
    "\n",
    "<h3> Question Three </h3>\n",
    "\n",
    "Using the Python Skills you've developed over this Track Stop, create 7 new dataframes (one for each region) where you'll sub-set each region into the respective dataframe using boolean evaluations. \n",
    "\n",
    "Name each dataframe with the following syntax:\n",
    "\n",
    "    dataframe_region\n",
    "\n",
    "<b> Code Example </b>\n",
    "\n",
    "    dataframe_middle_atlantic = dataframe[dataframe['Region']=='Region You Want To Look Up']]\n",
    "\n"
   ]
  },
  {
   "cell_type": "markdown",
   "metadata": {},
   "source": [
    "<b><span style=\"color: #20b2aa\">Place your answer below here </style></b>"
   ]
  },
  {
   "cell_type": "code",
   "execution_count": 13,
   "metadata": {},
   "outputs": [],
   "source": [
    "demographic_middle_atlantic = demographic[demographic['Region']=='Middle Atlantic ']\n",
    "demographic_pacific = demographic[demographic['Region']=='Pacific ']\n",
    "demographic_south_central = demographic[demographic['Region']=='South Central']\n",
    "demographic_north_central = demographic[demographic['Region']=='North Central']\n",
    "demographic_mountain = demographic[demographic['Region']=='Mountain ']\n",
    "demographic_south_atlantic = demographic[demographic['Region']=='South Atlantic ']\n",
    "demographic_new_england = demographic[demographic['Region']=='New England ']"
   ]
  },
  {
   "cell_type": "markdown",
   "metadata": {},
   "source": [
    "Now that we've identified that within each subset of our dataframe, we have multiple permutations of a single state, it's time we start correcting these typos dataframe by dataframe. \n",
    "\n",
    "We'll be going over four key data cleansing techniques and approaches to assist you with cleansing the dataframes.\n",
    "\n",
    "These are listed below. \n",
    "\n",
    "<ol>\n",
    "    <b> <li> Replace with Regex </li></b>\n",
    "    <b> <li> Dictionary Mapping  </li></b>\n",
    "    <b> <li> .Loc & Boolean String Filtering </li></b>\n",
    "    <b> <li> Cleaning Data with Functions </li></b>\n",
    "    \n",
    "</ol>\n",
    "\n",
    "Each of these are used under different conditions so think carefully as you make use of each data cleansing technique.\n",
    "\n",
    "Let's get started."
   ]
  },
  {
   "cell_type": "markdown",
   "metadata": {},
   "source": [
    "<h3 style=\"color:#20b2aa\"> 1. Replacing Data with Regex</h3>"
   ]
  },
  {
   "cell_type": "markdown",
   "metadata": {},
   "source": [
    "Replacing Data with the .replace function is useful for <b> small </b> modifications to a dataframe.\n",
    "\n",
    "In this exercise we'll take a look at how we can use the .replace() methodology and combine this with the regex argument.\n",
    "\n",
    "Firstly, we'll need to define what the correct records/entries in each dataframe should be and store this in a list.\n",
    "\n",
    "For example, imagine if we have the following entries:\n",
    "\n",
    "<ol>\n",
    "    <li> New York </li>\n",
    "    <li> New Y0rk </li>\n",
    "    <li> New Yerk </li>\n",
    "    <li> New Jersey </li>\n",
    "    <li> New J3ss3y </li>\n",
    "    <li> New Jessiy </li>\n",
    "    \n",
    "</ol>\n",
    "\n",
    "Even though they all read as some permutation of New York, we know that the correct entry would be New York.\n",
    "This is similarly the case for New Jersey.\n",
    "\n",
    "We can prepare a list that contains the right entries here:\n",
    "\n",
    "    correctEntries = [\"New Jersey\",\"New York\"]\n",
    "\n",
    "Similarly, we can prepare a list that contains all the <b>*incorrect*</b> entries and use this as a guide for us to correct all the incorrect spellings.\n",
    "\n",
    "    incorrectEntries = ['New Y0rk','New Yerk','New J3ss3y','New Jessiy']\n",
    "\n",
    "We can then make use of the .replace and regex function to replace the data in our dataframe.\n",
    "\n",
    "    dataframe_region['column'].replace(\"incorrectEntry\",\"correctEntry\", regex=True, inplace=True)\n",
    "    \n",
    "It is important to note that without specifying **regex = True** the replacement of the incorrect entry with the correct entry will not take place. \n",
    "\n",
    "Now you're armed with this information - give it a try!"
   ]
  },
  {
   "cell_type": "markdown",
   "metadata": {},
   "source": [
    "<h3> Question Four </h3>\n",
    "\n",
    "Using your new-found knowledge of how .replace() works, **replace all the typos that currently exist in the dataframe_middle_atlantic dataframe**.\n",
    "\n",
    "<b><span style=\"color: Purple\"> PS: Don't forget to firstly use .unique() to help you identify the unique number of permutations that exist in the dataframes state column. </span> </b>"
   ]
  },
  {
   "cell_type": "markdown",
   "metadata": {},
   "source": [
    "<b><span style=\"color: #20b2aa\">Place your answer below here </style></b>"
   ]
  },
  {
   "cell_type": "code",
   "execution_count": 14,
   "metadata": {
    "tags": []
   },
   "outputs": [
    {
     "name": "stderr",
     "output_type": "stream",
     "text": [
      "C:\\Users\\14087\\anaconda3\\lib\\site-packages\\pandas\\core\\series.py:4563: SettingWithCopyWarning: \n",
      "A value is trying to be set on a copy of a slice from a DataFrame\n",
      "\n",
      "See the caveats in the documentation: https://pandas.pydata.org/pandas-docs/stable/user_guide/indexing.html#returning-a-view-versus-a-copy\n",
      "  return super().replace(\n"
     ]
    }
   ],
   "source": [
    "demographic_middle_atlantic['State'].unique()\n",
    "\n",
    "correct_entries=['New York', 'New Jersey', 'Pennsylvania']\n",
    "incorrect_entries=['New Y0rk', 'New Yorke', 'New York ', 'NewYork', 'New Yerk', 'New Jesey', 'NewJersey', 'New Jessey', 'New Jersay', \n",
    "                  'Pennsylvania  ','Pennsylvania ' 'Pensylvania', 'Pennsylvaniar', 'Pennsylvania r']\n",
    "\n",
    "demographic_middle_atlantic['State'].replace(\"New Y0rk\", \"New York\", regex=True, inplace=True)\n",
    "demographic_middle_atlantic['State'].replace(\"New Yorke\", \"New York\", regex=True, inplace=True)\n",
    "demographic_middle_atlantic['State'].replace(\"New York \", \"New York\", regex=True, inplace=True)\n",
    "demographic_middle_atlantic['State'].replace(\"NewYork\", \"New York\", regex=True, inplace=True)\n",
    "demographic_middle_atlantic['State'].replace(\"New Yerk\", \"New York\", regex=True, inplace=True)\n",
    "\n",
    "demographic_middle_atlantic['State'].replace(\"New Jesey\", \"New Jersey\", regex=True, inplace=True)\n",
    "demographic_middle_atlantic['State'].replace(\"NewJersey\", \"New Jersey\", regex=True, inplace=True)\n",
    "demographic_middle_atlantic['State'].replace(\"New Jessey\", \"New Jersey\", regex=True, inplace=True)\n",
    "demographic_middle_atlantic['State'].replace(\"New Jersay\", \"New Jersey\", regex=True, inplace=True)\n",
    "\n",
    "demographic_middle_atlantic['State'].replace(\"Pennsylvania \", \"Pennsylvania\", regex=True, inplace=True)\n",
    "demographic_middle_atlantic['State'].replace(\"Pennsylvania  \", \"Pennsylvania\", regex=True, inplace=True)\n",
    "demographic_middle_atlantic['State'].replace(\"Pensylvania\", \"Pennsylvania\", regex=True, inplace=True)\n",
    "demographic_middle_atlantic['State'].replace(\"Pennsylvaniar\", \"Pennsylvania\", regex=True, inplace=True)\n",
    "demographic_middle_atlantic['State'].replace(\"Pennsylvania r\", \"Pennsylvania\", regex=True, inplace=True)\n"
   ]
  },
  {
   "cell_type": "code",
   "execution_count": 15,
   "metadata": {},
   "outputs": [
    {
     "data": {
      "text/html": [
       "<div>\n",
       "<style scoped>\n",
       "    .dataframe tbody tr th:only-of-type {\n",
       "        vertical-align: middle;\n",
       "    }\n",
       "\n",
       "    .dataframe tbody tr th {\n",
       "        vertical-align: top;\n",
       "    }\n",
       "\n",
       "    .dataframe thead th {\n",
       "        text-align: right;\n",
       "    }\n",
       "</style>\n",
       "<table border=\"1\" class=\"dataframe\">\n",
       "  <thead>\n",
       "    <tr style=\"text-align: right;\">\n",
       "      <th></th>\n",
       "      <th></th>\n",
       "      <th>CustID</th>\n",
       "      <th>Zip Code</th>\n",
       "    </tr>\n",
       "    <tr>\n",
       "      <th>Region</th>\n",
       "      <th>State</th>\n",
       "      <th></th>\n",
       "      <th></th>\n",
       "    </tr>\n",
       "  </thead>\n",
       "  <tbody>\n",
       "    <tr>\n",
       "      <th rowspan=\"4\" valign=\"top\">Middle Atlantic</th>\n",
       "      <th>New Jersey</th>\n",
       "      <td>87</td>\n",
       "      <td>85</td>\n",
       "    </tr>\n",
       "    <tr>\n",
       "      <th>New York</th>\n",
       "      <td>183</td>\n",
       "      <td>183</td>\n",
       "    </tr>\n",
       "    <tr>\n",
       "      <th>Pennsylvania</th>\n",
       "      <td>55</td>\n",
       "      <td>55</td>\n",
       "    </tr>\n",
       "    <tr>\n",
       "      <th>Pennsylvania</th>\n",
       "      <td>2</td>\n",
       "      <td>2</td>\n",
       "    </tr>\n",
       "  </tbody>\n",
       "</table>\n",
       "</div>"
      ],
      "text/plain": [
       "                                CustID  Zip Code\n",
       "Region           State                          \n",
       "Middle Atlantic  New Jersey         87        85\n",
       "                 New York          183       183\n",
       "                 Pennsylvania       55        55\n",
       "                 Pennsylvania        2         2"
      ]
     },
     "execution_count": 15,
     "metadata": {},
     "output_type": "execute_result"
    }
   ],
   "source": [
    "demographic_middle_atlantic.groupby(['Region', 'State']).count()"
   ]
  },
  {
   "cell_type": "markdown",
   "metadata": {},
   "source": [
    "At this point, you're probably thinking:\n",
    "\n",
    "<b> What happens if I have 100 incorrect entries? Do I need to write .replace, 100 times?! </b>\n",
    "\n",
    "<h1> Heavens no. </h1>\n",
    "\n",
    "<span style=\"color: #da9100\"> As we mentioned earlier, if you have a *small number* of entries that need to be replaced then .replace is fine.     \n",
    "However, if you have many - you might be better off using a cleaner alternative known as **dictionaries**. </span>\n",
    "\n",
    "\n",
    "<h3 style=\"color:#20b2aa\"> 2. Dictionary Mapping </h3>"
   ]
  },
  {
   "cell_type": "markdown",
   "metadata": {},
   "source": [
    "As you would have learnt earlier, Dictionaries use key-value pair relationships where once you provide the 'key', you can extract the associated value. \n",
    "\n",
    "**This might not make sense immediately so think of it as a VLOOKUP, but *in Python*.** \n",
    "\n",
    "We're going to offer a quick refresher regarding how to make use of the .map() function and how this works with our dictionary objects in Python.\n",
    "\n",
    "The .map function essentially *binds* what you searching against the item it will replace.\n",
    "\n",
    "Say for example, I had the following:\n",
    "\n",
    "<b>exampleDict: </b>\n",
    "\n",
    "    {\n",
    "    \"One\": 1,\n",
    "    \"Two\":2\n",
    "    }\n",
    "    \n",
    "If I have a dataframe that contains the values \"One\" and \"Two\" and I want to have them replaced with numbers, I can then simply go:\n",
    "\n",
    "    dataframe['ColumnWithNumbers'].map(exampleDict)\n",
    "    \n",
    "This tells Python to act on the dataframe, specifically the column called 'ColumnWithNumbers', and for every entry that has \"one\" or \"two\" - replace this with the value, 1 and 2 (Hence the concept behind Key-Value Pair mappings).\n",
    "\n",
    "If you need extra assistance, take a look at the following link:\n",
    "\n",
    "https://chrisalbon.com/python/data_wrangling/pandas_map_values_to_values/\n"
   ]
  },
  {
   "cell_type": "markdown",
   "metadata": {},
   "source": [
    "<h3> Question Five </h3>\n",
    "\n",
    "Using your new-found knowledge of how .map() works, **replace all the typos that currently exist in the dataframe_mountain dataframe**.\n",
    "\n",
    "<b><span style=\"color: Purple\"> PS: Just like before, don't forget to firstly use .unique() to help you identify the unique number of permutations that exist in the dataframes state column. </span> </b>"
   ]
  },
  {
   "cell_type": "markdown",
   "metadata": {},
   "source": [
    "<b><span style=\"color: #20b2aa\">Place your answer below here </style></b>"
   ]
  },
  {
   "cell_type": "code",
   "execution_count": 16,
   "metadata": {
    "scrolled": true
   },
   "outputs": [
    {
     "data": {
      "text/plain": [
       "array(['Nevada', 'Nevada ', 'Colorado ', 'Colorado  ', 'Colorado',\n",
       "       'Montana', 'Arizona', 'Utah', 'New Mexico', 'Idaho', 'Idahoe',\n",
       "       'NewMexico', 'Arizonar', 'Nevadar', 'Wyoming'], dtype=object)"
      ]
     },
     "execution_count": 16,
     "metadata": {},
     "output_type": "execute_result"
    }
   ],
   "source": [
    "demographic_mountain['State'].unique()"
   ]
  },
  {
   "cell_type": "code",
   "execution_count": 17,
   "metadata": {},
   "outputs": [
    {
     "name": "stderr",
     "output_type": "stream",
     "text": [
      "<ipython-input-17-df0811828750>:6: SettingWithCopyWarning: \n",
      "A value is trying to be set on a copy of a slice from a DataFrame.\n",
      "Try using .loc[row_indexer,col_indexer] = value instead\n",
      "\n",
      "See the caveats in the documentation: https://pandas.pydata.org/pandas-docs/stable/user_guide/indexing.html#returning-a-view-versus-a-copy\n",
      "  demographic_mountain['State'] = demographic_mountain['State'].map(mountain_state_dict)\n"
     ]
    }
   ],
   "source": [
    "mountain_state_dict={\"Nevada\":\"Nevada\", \"Nevada \":\"Nevada\", \"Colorado \":\"Colorado\", \"Colorado  \":\"Colorado\", \n",
    "                     \"Colorado\":\"Colorado\", \"Montana\":\"Montana\",\"Arizona\":\"Arizona\",\"Utah\":\"Utah\",\"New Mexico\":\"New Mexico\",\n",
    "                     \"Idaho\":\"Idaho\",\"Idahoe\":\"Idaho\",\"NewMexico\":\"New Mexico\",\"Arizonar\":\"Arizona\",\"Nevadar\":\"Nevada\",\n",
    "                     \"Wyoming\":\"Wyoming\"}\n",
    "\n",
    "demographic_mountain['State'] = demographic_mountain['State'].map(mountain_state_dict)"
   ]
  },
  {
   "cell_type": "code",
   "execution_count": 18,
   "metadata": {},
   "outputs": [
    {
     "data": {
      "text/html": [
       "<div>\n",
       "<style scoped>\n",
       "    .dataframe tbody tr th:only-of-type {\n",
       "        vertical-align: middle;\n",
       "    }\n",
       "\n",
       "    .dataframe tbody tr th {\n",
       "        vertical-align: top;\n",
       "    }\n",
       "\n",
       "    .dataframe thead th {\n",
       "        text-align: right;\n",
       "    }\n",
       "</style>\n",
       "<table border=\"1\" class=\"dataframe\">\n",
       "  <thead>\n",
       "    <tr style=\"text-align: right;\">\n",
       "      <th></th>\n",
       "      <th></th>\n",
       "      <th>CustID</th>\n",
       "      <th>Zip Code</th>\n",
       "    </tr>\n",
       "    <tr>\n",
       "      <th>Region</th>\n",
       "      <th>State</th>\n",
       "      <th></th>\n",
       "      <th></th>\n",
       "    </tr>\n",
       "  </thead>\n",
       "  <tbody>\n",
       "    <tr>\n",
       "      <th rowspan=\"8\" valign=\"top\">Mountain</th>\n",
       "      <th>Arizona</th>\n",
       "      <td>98</td>\n",
       "      <td>98</td>\n",
       "    </tr>\n",
       "    <tr>\n",
       "      <th>Colorado</th>\n",
       "      <td>69</td>\n",
       "      <td>69</td>\n",
       "    </tr>\n",
       "    <tr>\n",
       "      <th>Idaho</th>\n",
       "      <td>16</td>\n",
       "      <td>16</td>\n",
       "    </tr>\n",
       "    <tr>\n",
       "      <th>Montana</th>\n",
       "      <td>13</td>\n",
       "      <td>9</td>\n",
       "    </tr>\n",
       "    <tr>\n",
       "      <th>Nevada</th>\n",
       "      <td>44</td>\n",
       "      <td>43</td>\n",
       "    </tr>\n",
       "    <tr>\n",
       "      <th>New Mexico</th>\n",
       "      <td>27</td>\n",
       "      <td>24</td>\n",
       "    </tr>\n",
       "    <tr>\n",
       "      <th>Utah</th>\n",
       "      <td>48</td>\n",
       "      <td>48</td>\n",
       "    </tr>\n",
       "    <tr>\n",
       "      <th>Wyoming</th>\n",
       "      <td>5</td>\n",
       "      <td>5</td>\n",
       "    </tr>\n",
       "  </tbody>\n",
       "</table>\n",
       "</div>"
      ],
      "text/plain": [
       "                      CustID  Zip Code\n",
       "Region    State                       \n",
       "Mountain  Arizona         98        98\n",
       "          Colorado        69        69\n",
       "          Idaho           16        16\n",
       "          Montana         13         9\n",
       "          Nevada          44        43\n",
       "          New Mexico      27        24\n",
       "          Utah            48        48\n",
       "          Wyoming          5         5"
      ]
     },
     "execution_count": 18,
     "metadata": {},
     "output_type": "execute_result"
    }
   ],
   "source": [
    "demographic_mountain.groupby(['Region', 'State']).count()"
   ]
  },
  {
   "cell_type": "markdown",
   "metadata": {},
   "source": [
    "At this point, you've seen how much *cleaner* and effective it is to use dictionary-key value pairs to accelerate the data cleansing work.\n",
    "\n",
    "You might have even noted that the .map function reminds you of the VLOOKUP / INDEX MATCH combos that are so popular in Excel.\n",
    "Now the problem with using .map is that is **requires you to clearly define each key-value pair before mapping the values**.\n",
    "\n",
    "This isn't problematic, but there are more **efficient** ways of searching and replacing incorrect entries in our dataframes.\n",
    "\n",
    "<span style=\"color: Purple\"> We can do this via <b> Partial String Matching </b> and  Regular Expressions </span> which brings us to the 3rd Data Cleansing Technique.\n",
    "\n",
    "<h3 style=\"color:#20b2aa\"> 3. .loc and boolean string filtering</h3>\n",
    "\n",
    "Instead of simply typing \"New Jersey\" multiple times, we can use an expression to recognise the entries that \n",
    "start with New J and then ensure that all of these entries are replaced with New Jersey. \n",
    "\n",
    "<b>This is known as Partial String Matching.</b>\n",
    "\n",
    "We seek to use a Partial String to match all other permutations of the phrase that we are searching for.\n",
    "\n",
    "\n",
    "This time, we'll make use of the .str.contains methodology combined with .loc to filter and identify the columns and the associated column values that we want to modify\n",
    "\n"
   ]
  },
  {
   "cell_type": "markdown",
   "metadata": {},
   "source": [
    "![Str_Contains_Assistance](img/Partial_String_Match.jpg)"
   ]
  },
  {
   "cell_type": "markdown",
   "metadata": {},
   "source": [
    "Lastly, we need to make use of .loc <b> in combination with .str.contains </b> to help us identify the specific columns we want to look up. \n",
    "\n",
    "Remember .locs syntax is essentially [row,column]. \n",
    "\n",
    "In the example above, we've simply provided the \"Rows\" where \"New J\" can be matched, followed by the column of interest we wish to filter this on. \n",
    "\n",
    "\n",
    "Putting this all together we have an expression such as: \n",
    "\n",
    "dataframe.loc[dataframe['Column'].str.contains(\"Searchable_Text_Phrase\",'Column)] = \"Replacement Text\"\n",
    "\n",
    "Now it's <b> your turn! </b>"
   ]
  },
  {
   "cell_type": "markdown",
   "metadata": {},
   "source": [
    "<h3> Question Six </h3>\n",
    "\n",
    "Using your new-found knowledge of how .loc and .str.contains  **replace all the typos that currently exist in the dataframe_new_england**.\n",
    "\n",
    "<b><span style=\"color: Purple\"> PS: Just like before, don't forget to firstly use .unique() to help you identify the unique number of permutations that exist in the dataframes state column. </span> </b>"
   ]
  },
  {
   "cell_type": "markdown",
   "metadata": {},
   "source": [
    "<b><span style=\"color: #20b2aa\">Place your answer below here </style></b>"
   ]
  },
  {
   "cell_type": "code",
   "execution_count": 19,
   "metadata": {},
   "outputs": [
    {
     "data": {
      "text/plain": [
       "array(['Connecticut', 'Massachusetts', 'RhodeIsland', 'Maine',\n",
       "       'Massachuseuss', 'Rhodee Island', 'Rhode Island', 'NewHampshire',\n",
       "       'New Hampshire', 'New Hampshirer', 'Rhodes Island'], dtype=object)"
      ]
     },
     "execution_count": 19,
     "metadata": {},
     "output_type": "execute_result"
    }
   ],
   "source": [
    "demographic_new_england['State'].unique()"
   ]
  },
  {
   "cell_type": "code",
   "execution_count": 20,
   "metadata": {},
   "outputs": [
    {
     "name": "stderr",
     "output_type": "stream",
     "text": [
      "C:\\Users\\14087\\anaconda3\\lib\\site-packages\\pandas\\core\\indexing.py:1765: SettingWithCopyWarning: \n",
      "A value is trying to be set on a copy of a slice from a DataFrame.\n",
      "Try using .loc[row_indexer,col_indexer] = value instead\n",
      "\n",
      "See the caveats in the documentation: https://pandas.pydata.org/pandas-docs/stable/user_guide/indexing.html#returning-a-view-versus-a-copy\n",
      "  isetter(loc, value)\n",
      "C:\\Users\\14087\\anaconda3\\lib\\site-packages\\pandas\\core\\indexing.py:670: SettingWithCopyWarning: \n",
      "A value is trying to be set on a copy of a slice from a DataFrame\n",
      "\n",
      "See the caveats in the documentation: https://pandas.pydata.org/pandas-docs/stable/user_guide/indexing.html#returning-a-view-versus-a-copy\n",
      "  iloc._setitem_with_indexer(indexer, value)\n",
      "<ipython-input-20-bfc414769eb4>:2: SettingWithCopyWarning: \n",
      "A value is trying to be set on a copy of a slice from a DataFrame\n",
      "\n",
      "See the caveats in the documentation: https://pandas.pydata.org/pandas-docs/stable/user_guide/indexing.html#returning-a-view-versus-a-copy\n",
      "  demographic_new_england.loc[demographic_new_england['State'].str.contains(\"Rhode\", 'State')]=\"Rhode Island\"\n",
      "<ipython-input-20-bfc414769eb4>:3: SettingWithCopyWarning: \n",
      "A value is trying to be set on a copy of a slice from a DataFrame\n",
      "\n",
      "See the caveats in the documentation: https://pandas.pydata.org/pandas-docs/stable/user_guide/indexing.html#returning-a-view-versus-a-copy\n",
      "  demographic_new_england.loc[demographic_new_england['State'].str.contains(\"New\", 'State')]=\"New Hampshire\"\n"
     ]
    }
   ],
   "source": [
    "demographic_new_england.loc[demographic_new_england['State'].str.contains(\"Mas\", 'State')]=\"Massachusetts\"\n",
    "demographic_new_england.loc[demographic_new_england['State'].str.contains(\"Rhode\", 'State')]=\"Rhode Island\"\n",
    "demographic_new_england.loc[demographic_new_england['State'].str.contains(\"New\", 'State')]=\"New Hampshire\""
   ]
  },
  {
   "cell_type": "code",
   "execution_count": 21,
   "metadata": {},
   "outputs": [
    {
     "data": {
      "text/html": [
       "<div>\n",
       "<style scoped>\n",
       "    .dataframe tbody tr th:only-of-type {\n",
       "        vertical-align: middle;\n",
       "    }\n",
       "\n",
       "    .dataframe tbody tr th {\n",
       "        vertical-align: top;\n",
       "    }\n",
       "\n",
       "    .dataframe thead th {\n",
       "        text-align: right;\n",
       "    }\n",
       "</style>\n",
       "<table border=\"1\" class=\"dataframe\">\n",
       "  <thead>\n",
       "    <tr style=\"text-align: right;\">\n",
       "      <th></th>\n",
       "      <th></th>\n",
       "      <th>CustID</th>\n",
       "      <th>Zip Code</th>\n",
       "    </tr>\n",
       "    <tr>\n",
       "      <th>Region</th>\n",
       "      <th>State</th>\n",
       "      <th></th>\n",
       "      <th></th>\n",
       "    </tr>\n",
       "  </thead>\n",
       "  <tbody>\n",
       "    <tr>\n",
       "      <th>Massachusetts</th>\n",
       "      <th>Massachusetts</th>\n",
       "      <td>73</td>\n",
       "      <td>73</td>\n",
       "    </tr>\n",
       "    <tr>\n",
       "      <th rowspan=\"2\" valign=\"top\">New England</th>\n",
       "      <th>Connecticut</th>\n",
       "      <td>49</td>\n",
       "      <td>49</td>\n",
       "    </tr>\n",
       "    <tr>\n",
       "      <th>Maine</th>\n",
       "      <td>7</td>\n",
       "      <td>7</td>\n",
       "    </tr>\n",
       "    <tr>\n",
       "      <th>New Hampshire</th>\n",
       "      <th>New Hampshire</th>\n",
       "      <td>17</td>\n",
       "      <td>17</td>\n",
       "    </tr>\n",
       "    <tr>\n",
       "      <th>Rhode Island</th>\n",
       "      <th>Rhode Island</th>\n",
       "      <td>17</td>\n",
       "      <td>17</td>\n",
       "    </tr>\n",
       "  </tbody>\n",
       "</table>\n",
       "</div>"
      ],
      "text/plain": [
       "                             CustID  Zip Code\n",
       "Region        State                          \n",
       "Massachusetts Massachusetts      73        73\n",
       "New England   Connecticut        49        49\n",
       "              Maine               7         7\n",
       "New Hampshire New Hampshire      17        17\n",
       "Rhode Island  Rhode Island       17        17"
      ]
     },
     "execution_count": 21,
     "metadata": {},
     "output_type": "execute_result"
    }
   ],
   "source": [
    "demographic_new_england.groupby(['Region', 'State']).count()"
   ]
  },
  {
   "cell_type": "markdown",
   "metadata": {},
   "source": [
    "And lastly, we now come to the final data cleansing technique we'll impart to you.\n",
    "\n",
    "<h3 style=\"color:#20b2aa\"> 4. Cleansing Data with Functions</h3>\n",
    "\n",
    "In the Track Stop Material earlier, you covered how functions work and how they are defined.\n",
    "\n",
    "<b> Essentially, functions are useful, repeatable code snippets that perform a particular calculation or function </b>\n",
    "\n",
    "If you recall, in Q4, we had you make use of the .replace function where you replaced each typo individually. This was painful but necessary to teach you more efficient ways of data cleansing larger pieces of data. \n",
    "\n",
    "Now you're equipped with much better methodologies such as <b> .map() and .loc + .str.contains </b> however, \n",
    "the last data cleansing technique we'll teach you is the most powerful. \n",
    "\n",
    "<b> As a rule of thumb, if you need to do the same task more than 3-4 times, it would probably be useful to create a function to automate this task for you. </b>"
   ]
  },
  {
   "cell_type": "markdown",
   "metadata": {},
   "source": [
    "![Str_Contains_Assistance](img/Cleansing_Data_Functions.jpg)"
   ]
  },
  {
   "cell_type": "markdown",
   "metadata": {
    "tags": []
   },
   "source": [
    "In the example that we showed, we highlighted how you could make use of a function to add multiple numbers together.\n",
    "\n",
    "You can use the *exact same logic* to replace multiple *phrases* with the .replace function.\n",
    "\n",
    "Remember, the format for this function will follow the below:\n",
    "\n",
    "    def renameDataFrameColumns(argument1, argument2, argument3, argument4):\n",
    "        # You will need four arguments for this.\n",
    "        1. You need to supply the dataframe first\n",
    "        2. You need to supply the search phrases\n",
    "        3. You need to supply the replacement phrases\n",
    "        4. You need to supply the column where these changes will be applied towards\n",
    "        5. Using all this information, you will combine this with the .replace function()\n",
    "\n"
   ]
  },
  {
   "cell_type": "markdown",
   "metadata": {},
   "source": [
    "<h3> Question Seven </h3>\n",
    "\n",
    "Using your knowledge of how functions work, create a function that uses the .replace() to **replace all the typos that currently exist in the dataframe_north_central**.\n",
    "\n",
    "<b><span style=\"color: Purple\"> PS: Just like before, don't forget to firstly use .unique() to help you identify the unique number of permutations that exist in the dataframes state column. </span> </b>\n",
    "<b><span style=\"color: Purple\"> P-PS: You may want to make use of a \"list\" to supply the typos you need to pass into your function. Additionally, you may want to think about potentially using a loop within your function to assist with iterating through a supplied list of typos that need to be replaced </span> </b>\n",
    "\n",
    "<b> This is the toughest question in the entire assignment so once you solve this; You'll be *data cleansing ready* for the majority of data cleansing challenges you'll be facing in industry. </b>\n"
   ]
  },
  {
   "cell_type": "markdown",
   "metadata": {},
   "source": [
    "<b><span style=\"color: #20b2aa\">Place your answer below here </style></b>"
   ]
  },
  {
   "cell_type": "code",
   "execution_count": 22,
   "metadata": {},
   "outputs": [],
   "source": [
    "demographic_north_central['State'].unique()\n",
    "\n",
    "typos=['Illinois ', 'Illinois  ', 'Michigan ', 'Michigan  ', 'Indiana ', \n",
    "       'Wisconsin ', 'Missourey', 'Missouriey', 'SouthDakota']"
   ]
  },
  {
   "cell_type": "code",
   "execution_count": 23,
   "metadata": {},
   "outputs": [
    {
     "name": "stdout",
     "output_type": "stream",
     "text": [
      "Michigan  Michigan\n",
      "Michigan   Michigan\n",
      "Illinois  Illinois\n",
      "Illinois   Illinois\n",
      "Indiana  Indiana\n",
      "Wisconsin  Wisconsin\n",
      "Missourey Missouri\n",
      "Missouriey Missouri\n",
      "SouthDakota South Dakota\n"
     ]
    },
    {
     "name": "stderr",
     "output_type": "stream",
     "text": [
      "C:\\Users\\14087\\anaconda3\\lib\\site-packages\\pandas\\core\\indexing.py:1765: SettingWithCopyWarning: \n",
      "A value is trying to be set on a copy of a slice from a DataFrame.\n",
      "Try using .loc[row_indexer,col_indexer] = value instead\n",
      "\n",
      "See the caveats in the documentation: https://pandas.pydata.org/pandas-docs/stable/user_guide/indexing.html#returning-a-view-versus-a-copy\n",
      "  isetter(loc, value)\n"
     ]
    }
   ],
   "source": [
    "def renamefunc (df, search, replacement, column='State'):\n",
    "    df.loc[df[column].str.contains(search), column] = replacement\n",
    "    \n",
    "replace_dict={\n",
    "    'Michigan ' : 'Michigan',\n",
    "    'Michigan  ' : 'Michigan',\n",
    "    'Illinois ' : 'Illinois',\n",
    "    'Illinois  ' : 'Illinois',\n",
    "    'Indiana ' : 'Indiana',\n",
    "    'Wisconsin ' : 'Wisconsin',\n",
    "    'Missourey' : 'Missouri',\n",
    "    'Missouriey' : 'Missouri',\n",
    "    'SouthDakota' : 'South Dakota'\n",
    "}\n",
    "\n",
    "for incorrect, correct in replace_dict.items():\n",
    "    print(incorrect, correct)\n",
    "    renamefunc(demographic_north_central, incorrect, correct, 'State')"
   ]
  },
  {
   "cell_type": "code",
   "execution_count": 24,
   "metadata": {},
   "outputs": [
    {
     "data": {
      "text/html": [
       "<div>\n",
       "<style scoped>\n",
       "    .dataframe tbody tr th:only-of-type {\n",
       "        vertical-align: middle;\n",
       "    }\n",
       "\n",
       "    .dataframe tbody tr th {\n",
       "        vertical-align: top;\n",
       "    }\n",
       "\n",
       "    .dataframe thead th {\n",
       "        text-align: right;\n",
       "    }\n",
       "</style>\n",
       "<table border=\"1\" class=\"dataframe\">\n",
       "  <thead>\n",
       "    <tr style=\"text-align: right;\">\n",
       "      <th></th>\n",
       "      <th></th>\n",
       "      <th>CustID</th>\n",
       "      <th>Zip Code</th>\n",
       "    </tr>\n",
       "    <tr>\n",
       "      <th>Region</th>\n",
       "      <th>State</th>\n",
       "      <th></th>\n",
       "      <th></th>\n",
       "    </tr>\n",
       "  </thead>\n",
       "  <tbody>\n",
       "    <tr>\n",
       "      <th rowspan=\"11\" valign=\"top\">North Central</th>\n",
       "      <th>Illinois</th>\n",
       "      <td>84</td>\n",
       "      <td>82</td>\n",
       "    </tr>\n",
       "    <tr>\n",
       "      <th>Indiana</th>\n",
       "      <td>41</td>\n",
       "      <td>41</td>\n",
       "    </tr>\n",
       "    <tr>\n",
       "      <th>Iowa</th>\n",
       "      <td>9</td>\n",
       "      <td>8</td>\n",
       "    </tr>\n",
       "    <tr>\n",
       "      <th>Michigan</th>\n",
       "      <td>64</td>\n",
       "      <td>57</td>\n",
       "    </tr>\n",
       "    <tr>\n",
       "      <th>Minnesota</th>\n",
       "      <td>26</td>\n",
       "      <td>22</td>\n",
       "    </tr>\n",
       "    <tr>\n",
       "      <th>Missouri</th>\n",
       "      <td>29</td>\n",
       "      <td>29</td>\n",
       "    </tr>\n",
       "    <tr>\n",
       "      <th>Nebraska</th>\n",
       "      <td>2</td>\n",
       "      <td>2</td>\n",
       "    </tr>\n",
       "    <tr>\n",
       "      <th>North Dakota</th>\n",
       "      <td>1</td>\n",
       "      <td>1</td>\n",
       "    </tr>\n",
       "    <tr>\n",
       "      <th>Ohio</th>\n",
       "      <td>45</td>\n",
       "      <td>44</td>\n",
       "    </tr>\n",
       "    <tr>\n",
       "      <th>South Dakota</th>\n",
       "      <td>6</td>\n",
       "      <td>4</td>\n",
       "    </tr>\n",
       "    <tr>\n",
       "      <th>Wisconsin</th>\n",
       "      <td>38</td>\n",
       "      <td>35</td>\n",
       "    </tr>\n",
       "  </tbody>\n",
       "</table>\n",
       "</div>"
      ],
      "text/plain": [
       "                            CustID  Zip Code\n",
       "Region        State                         \n",
       "North Central Illinois          84        82\n",
       "              Indiana           41        41\n",
       "              Iowa               9         8\n",
       "              Michigan          64        57\n",
       "              Minnesota         26        22\n",
       "              Missouri          29        29\n",
       "              Nebraska           2         2\n",
       "              North Dakota       1         1\n",
       "              Ohio              45        44\n",
       "              South Dakota       6         4\n",
       "              Wisconsin         38        35"
      ]
     },
     "execution_count": 24,
     "metadata": {},
     "output_type": "execute_result"
    }
   ],
   "source": [
    "demographic_north_central.groupby(['Region', 'State']).count()"
   ]
  },
  {
   "cell_type": "markdown",
   "metadata": {
    "tags": []
   },
   "source": [
    "At this point, you're familiar with the basic methodologies to cleanse the remaining three geographic data entries.\n",
    "You've covered the following approaches:\n",
    "\n",
    "1. Regular Expressions (Regex) with .replace \n",
    "2. Dictionary Key-Value Pairs with .map \n",
    "3. Column Filtering using .Loc and str.contains() \n",
    "4. Cleaning Data with Functions \n",
    "\n",
    "<h3  style=\"color:#20b2aa\"> For the remaining data sets, choose whichever approach you feel most comfortable with to clean this information up until all 7 Sub Data Sets have now been cleansed of typos. </h3>\n"
   ]
  },
  {
   "cell_type": "markdown",
   "metadata": {},
   "source": [
    "<b><span style=\"color: #20b2aa\">Place your answer below here </style></b>"
   ]
  },
  {
   "cell_type": "code",
   "execution_count": 25,
   "metadata": {},
   "outputs": [
    {
     "data": {
      "text/plain": [
       "array(['California', 'Oregon', 'Cali', 'Califauna', 'Washington',\n",
       "       'Orregon', 'Californiau', 'Oregon  '], dtype=object)"
      ]
     },
     "execution_count": 25,
     "metadata": {},
     "output_type": "execute_result"
    }
   ],
   "source": [
    "demographic_pacific['State'].unique()"
   ]
  },
  {
   "cell_type": "code",
   "execution_count": 26,
   "metadata": {},
   "outputs": [
    {
     "name": "stdout",
     "output_type": "stream",
     "text": [
      "Cali California\n",
      "Califauna California\n",
      "Orregon Oregon\n",
      "Californiau California\n",
      "Oregon   Oregon\n"
     ]
    },
    {
     "name": "stderr",
     "output_type": "stream",
     "text": [
      "C:\\Users\\14087\\anaconda3\\lib\\site-packages\\pandas\\core\\indexing.py:1765: SettingWithCopyWarning: \n",
      "A value is trying to be set on a copy of a slice from a DataFrame.\n",
      "Try using .loc[row_indexer,col_indexer] = value instead\n",
      "\n",
      "See the caveats in the documentation: https://pandas.pydata.org/pandas-docs/stable/user_guide/indexing.html#returning-a-view-versus-a-copy\n",
      "  isetter(loc, value)\n"
     ]
    }
   ],
   "source": [
    "pacific_replace_dict = {\n",
    "    'Cali' : 'California',\n",
    "    'Califauna' : 'California',\n",
    "    'Orregon' : 'Oregon',\n",
    "    'Californiau' : 'California',\n",
    "    'Oregon  ' : 'Oregon'\n",
    "}\n",
    "\n",
    "for incorrect, correct in pacific_replace_dict.items():\n",
    "    print(incorrect, correct)\n",
    "    renamefunc(demographic_pacific, incorrect, correct, 'State')"
   ]
  },
  {
   "cell_type": "code",
   "execution_count": 27,
   "metadata": {},
   "outputs": [
    {
     "data": {
      "text/html": [
       "<div>\n",
       "<style scoped>\n",
       "    .dataframe tbody tr th:only-of-type {\n",
       "        vertical-align: middle;\n",
       "    }\n",
       "\n",
       "    .dataframe tbody tr th {\n",
       "        vertical-align: top;\n",
       "    }\n",
       "\n",
       "    .dataframe thead th {\n",
       "        text-align: right;\n",
       "    }\n",
       "</style>\n",
       "<table border=\"1\" class=\"dataframe\">\n",
       "  <thead>\n",
       "    <tr style=\"text-align: right;\">\n",
       "      <th></th>\n",
       "      <th></th>\n",
       "      <th>CustID</th>\n",
       "      <th>Zip Code</th>\n",
       "    </tr>\n",
       "    <tr>\n",
       "      <th>Region</th>\n",
       "      <th>State</th>\n",
       "      <th></th>\n",
       "      <th></th>\n",
       "    </tr>\n",
       "  </thead>\n",
       "  <tbody>\n",
       "    <tr>\n",
       "      <th rowspan=\"3\" valign=\"top\">Pacific</th>\n",
       "      <th>California</th>\n",
       "      <td>348</td>\n",
       "      <td>321</td>\n",
       "    </tr>\n",
       "    <tr>\n",
       "      <th>Oregon</th>\n",
       "      <td>15</td>\n",
       "      <td>14</td>\n",
       "    </tr>\n",
       "    <tr>\n",
       "      <th>Washington</th>\n",
       "      <td>29</td>\n",
       "      <td>27</td>\n",
       "    </tr>\n",
       "  </tbody>\n",
       "</table>\n",
       "</div>"
      ],
      "text/plain": [
       "                     CustID  Zip Code\n",
       "Region   State                       \n",
       "Pacific  California     348       321\n",
       "         Oregon          15        14\n",
       "         Washington      29        27"
      ]
     },
     "execution_count": 27,
     "metadata": {},
     "output_type": "execute_result"
    }
   ],
   "source": [
    "demographic_pacific.groupby(['Region', 'State']).count()"
   ]
  },
  {
   "cell_type": "code",
   "execution_count": 28,
   "metadata": {},
   "outputs": [
    {
     "data": {
      "text/plain": [
       "array(['Texas', 'Tennessee', 'Oklahoma', 'Louisiana', 'Alabama',\n",
       "       'Kentucky', 'Mississippi', 'Alabana', 'Louisianar', 'Arkansas',\n",
       "       'Oklahomer', 'Alarbarma'], dtype=object)"
      ]
     },
     "execution_count": 28,
     "metadata": {},
     "output_type": "execute_result"
    }
   ],
   "source": [
    "demographic_south_central['State'].unique()"
   ]
  },
  {
   "cell_type": "code",
   "execution_count": 29,
   "metadata": {},
   "outputs": [
    {
     "name": "stdout",
     "output_type": "stream",
     "text": [
      "Alabana Alabama\n",
      "Louisianar Louisiana\n",
      "Oklahomer Oklahoma\n",
      "Alarbarma Alabama\n"
     ]
    },
    {
     "name": "stderr",
     "output_type": "stream",
     "text": [
      "C:\\Users\\14087\\anaconda3\\lib\\site-packages\\pandas\\core\\indexing.py:1765: SettingWithCopyWarning: \n",
      "A value is trying to be set on a copy of a slice from a DataFrame.\n",
      "Try using .loc[row_indexer,col_indexer] = value instead\n",
      "\n",
      "See the caveats in the documentation: https://pandas.pydata.org/pandas-docs/stable/user_guide/indexing.html#returning-a-view-versus-a-copy\n",
      "  isetter(loc, value)\n"
     ]
    }
   ],
   "source": [
    "south_central_replace_dict = {\n",
    "    'Alabana' : 'Alabama',\n",
    "    'Louisianar' : 'Louisiana',\n",
    "    'Oklahomer' : 'Oklahoma',\n",
    "    'Alarbarma' : 'Alabama'\n",
    "}\n",
    "\n",
    "for incorrect, correct in south_central_replace_dict.items():\n",
    "    print(incorrect, correct)\n",
    "    renamefunc(demographic_south_central, incorrect, correct, 'State')"
   ]
  },
  {
   "cell_type": "code",
   "execution_count": 30,
   "metadata": {},
   "outputs": [
    {
     "data": {
      "text/html": [
       "<div>\n",
       "<style scoped>\n",
       "    .dataframe tbody tr th:only-of-type {\n",
       "        vertical-align: middle;\n",
       "    }\n",
       "\n",
       "    .dataframe tbody tr th {\n",
       "        vertical-align: top;\n",
       "    }\n",
       "\n",
       "    .dataframe thead th {\n",
       "        text-align: right;\n",
       "    }\n",
       "</style>\n",
       "<table border=\"1\" class=\"dataframe\">\n",
       "  <thead>\n",
       "    <tr style=\"text-align: right;\">\n",
       "      <th></th>\n",
       "      <th></th>\n",
       "      <th>CustID</th>\n",
       "      <th>Zip Code</th>\n",
       "    </tr>\n",
       "    <tr>\n",
       "      <th>Region</th>\n",
       "      <th>State</th>\n",
       "      <th></th>\n",
       "      <th></th>\n",
       "    </tr>\n",
       "  </thead>\n",
       "  <tbody>\n",
       "    <tr>\n",
       "      <th rowspan=\"8\" valign=\"top\">South Central</th>\n",
       "      <th>Alabama</th>\n",
       "      <td>13</td>\n",
       "      <td>13</td>\n",
       "    </tr>\n",
       "    <tr>\n",
       "      <th>Arkansas</th>\n",
       "      <td>8</td>\n",
       "      <td>8</td>\n",
       "    </tr>\n",
       "    <tr>\n",
       "      <th>Kentucky</th>\n",
       "      <td>23</td>\n",
       "      <td>23</td>\n",
       "    </tr>\n",
       "    <tr>\n",
       "      <th>Louisiana</th>\n",
       "      <td>12</td>\n",
       "      <td>12</td>\n",
       "    </tr>\n",
       "    <tr>\n",
       "      <th>Mississippi</th>\n",
       "      <td>3</td>\n",
       "      <td>3</td>\n",
       "    </tr>\n",
       "    <tr>\n",
       "      <th>Oklahoma</th>\n",
       "      <td>8</td>\n",
       "      <td>8</td>\n",
       "    </tr>\n",
       "    <tr>\n",
       "      <th>Tennessee</th>\n",
       "      <td>52</td>\n",
       "      <td>52</td>\n",
       "    </tr>\n",
       "    <tr>\n",
       "      <th>Texas</th>\n",
       "      <td>237</td>\n",
       "      <td>233</td>\n",
       "    </tr>\n",
       "  </tbody>\n",
       "</table>\n",
       "</div>"
      ],
      "text/plain": [
       "                           CustID  Zip Code\n",
       "Region        State                        \n",
       "South Central Alabama          13        13\n",
       "              Arkansas          8         8\n",
       "              Kentucky         23        23\n",
       "              Louisiana        12        12\n",
       "              Mississippi       3         3\n",
       "              Oklahoma          8         8\n",
       "              Tennessee        52        52\n",
       "              Texas           237       233"
      ]
     },
     "execution_count": 30,
     "metadata": {},
     "output_type": "execute_result"
    }
   ],
   "source": [
    "demographic_south_central.groupby(['Region', 'State']).count()"
   ]
  },
  {
   "cell_type": "code",
   "execution_count": 31,
   "metadata": {},
   "outputs": [
    {
     "data": {
      "text/plain": [
       "array(['Virginia ', 'Virginia  ', 'Virginia   ', 'Florida', 'Florida ',\n",
       "       'Floridar', 'Georgia', 'Georgia ', 'Georgia  ', 'Maryland',\n",
       "       'Delaware', 'North Carolina', 'Virginia', ' Virginia',\n",
       "       'NorthCarolina', 'Flowida', 'South Carolina', 'North Caroliner',\n",
       "       'Florider', 'Flowrider', 'SouthCarolina', 'Florada'], dtype=object)"
      ]
     },
     "execution_count": 31,
     "metadata": {},
     "output_type": "execute_result"
    }
   ],
   "source": [
    "demographic_south_atlantic['State'].unique()"
   ]
  },
  {
   "cell_type": "code",
   "execution_count": 32,
   "metadata": {},
   "outputs": [
    {
     "name": "stdout",
     "output_type": "stream",
     "text": [
      "Virginia  Virginia\n"
     ]
    },
    {
     "name": "stderr",
     "output_type": "stream",
     "text": [
      "C:\\Users\\14087\\anaconda3\\lib\\site-packages\\pandas\\core\\indexing.py:1765: SettingWithCopyWarning: \n",
      "A value is trying to be set on a copy of a slice from a DataFrame.\n",
      "Try using .loc[row_indexer,col_indexer] = value instead\n",
      "\n",
      "See the caveats in the documentation: https://pandas.pydata.org/pandas-docs/stable/user_guide/indexing.html#returning-a-view-versus-a-copy\n",
      "  isetter(loc, value)\n"
     ]
    },
    {
     "name": "stdout",
     "output_type": "stream",
     "text": [
      "Virginia   Virginia\n",
      "Virginia    Virginia\n",
      "Florida  Florida\n",
      "Floridar Florida\n",
      "Georgia  Georgia\n",
      "Georgia   Georgia\n",
      " Virginia Virginia\n",
      "NorthCarolina North Carolina\n",
      "Flowida Florida\n",
      "North Caroliner North Carolina\n",
      "Florider Florida\n",
      "Flowrider Florida\n",
      "SouthCarolina South Carolina\n",
      "Florada Florida\n"
     ]
    }
   ],
   "source": [
    "south_atlantic_replace_dict = {\n",
    "    'Virginia ' : 'Virginia',\n",
    "    'Virginia  ' : 'Virginia',\n",
    "    'Virginia   ' : 'Virginia',\n",
    "    'Florida ' : 'Florida',\n",
    "    'Floridar' : 'Florida',\n",
    "    'Georgia ' : 'Georgia',\n",
    "    'Georgia  ' : 'Georgia',\n",
    "    ' Virginia' : 'Virginia',\n",
    "    'NorthCarolina' : 'North Carolina',\n",
    "    'Flowida' : 'Florida',\n",
    "    'North Caroliner' : 'North Carolina',\n",
    "    'Florider' : 'Florida',\n",
    "    'Flowrider' : 'Florida',\n",
    "    'SouthCarolina': 'South Carolina',\n",
    "    'Florada' : 'Florida'\n",
    "}\n",
    "\n",
    "for incorrect, correct in south_atlantic_replace_dict.items():\n",
    "    print(incorrect, correct)\n",
    "    renamefunc(demographic_south_atlantic, incorrect, correct, 'State')"
   ]
  },
  {
   "cell_type": "code",
   "execution_count": 33,
   "metadata": {},
   "outputs": [
    {
     "data": {
      "text/html": [
       "<div>\n",
       "<style scoped>\n",
       "    .dataframe tbody tr th:only-of-type {\n",
       "        vertical-align: middle;\n",
       "    }\n",
       "\n",
       "    .dataframe tbody tr th {\n",
       "        vertical-align: top;\n",
       "    }\n",
       "\n",
       "    .dataframe thead th {\n",
       "        text-align: right;\n",
       "    }\n",
       "</style>\n",
       "<table border=\"1\" class=\"dataframe\">\n",
       "  <thead>\n",
       "    <tr style=\"text-align: right;\">\n",
       "      <th></th>\n",
       "      <th></th>\n",
       "      <th>CustID</th>\n",
       "      <th>Zip Code</th>\n",
       "    </tr>\n",
       "    <tr>\n",
       "      <th>Region</th>\n",
       "      <th>State</th>\n",
       "      <th></th>\n",
       "      <th></th>\n",
       "    </tr>\n",
       "  </thead>\n",
       "  <tbody>\n",
       "    <tr>\n",
       "      <th rowspan=\"7\" valign=\"top\">South Atlantic</th>\n",
       "      <th>Delaware</th>\n",
       "      <td>4</td>\n",
       "      <td>4</td>\n",
       "    </tr>\n",
       "    <tr>\n",
       "      <th>Florida</th>\n",
       "      <td>102</td>\n",
       "      <td>99</td>\n",
       "    </tr>\n",
       "    <tr>\n",
       "      <th>Georgia</th>\n",
       "      <td>50</td>\n",
       "      <td>50</td>\n",
       "    </tr>\n",
       "    <tr>\n",
       "      <th>Maryland</th>\n",
       "      <td>28</td>\n",
       "      <td>26</td>\n",
       "    </tr>\n",
       "    <tr>\n",
       "      <th>North Carolina</th>\n",
       "      <td>50</td>\n",
       "      <td>46</td>\n",
       "    </tr>\n",
       "    <tr>\n",
       "      <th>South Carolina</th>\n",
       "      <td>16</td>\n",
       "      <td>16</td>\n",
       "    </tr>\n",
       "    <tr>\n",
       "      <th>Virginia</th>\n",
       "      <td>47</td>\n",
       "      <td>46</td>\n",
       "    </tr>\n",
       "  </tbody>\n",
       "</table>\n",
       "</div>"
      ],
      "text/plain": [
       "                                CustID  Zip Code\n",
       "Region          State                           \n",
       "South Atlantic  Delaware             4         4\n",
       "                Florida            102        99\n",
       "                Georgia             50        50\n",
       "                Maryland            28        26\n",
       "                North Carolina      50        46\n",
       "                South Carolina      16        16\n",
       "                Virginia            47        46"
      ]
     },
     "execution_count": 33,
     "metadata": {},
     "output_type": "execute_result"
    }
   ],
   "source": [
    "demographic_south_atlantic.groupby(['Region', 'State']).count()"
   ]
  },
  {
   "cell_type": "markdown",
   "metadata": {},
   "source": [
    "Now we're at the final phase for cleansing up of the Geographical Textual Data. \n",
    "\n",
    "You've cleansed the data for every single one of the sub-set dataframes.\n",
    "\n",
    "<b> Now let's rejoin all the data together with the pd.concat function into a new dataframe called dataframe_cleansed. </b>\n",
    "\n",
    "\n",
    "\n",
    "\n"
   ]
  },
  {
   "cell_type": "markdown",
   "metadata": {},
   "source": [
    "<b><span style=\"color: #20b2aa\">Place your answer below here </style></b>"
   ]
  },
  {
   "cell_type": "code",
   "execution_count": 34,
   "metadata": {},
   "outputs": [],
   "source": [
    "cleaned_demographic = pd.concat([demographic_south_atlantic, demographic_middle_atlantic, demographic_north_central, demographic_south_central,\n",
    "          demographic_pacific, demographic_mountain, demographic_new_england])"
   ]
  },
  {
   "cell_type": "markdown",
   "metadata": {},
   "source": [
    "<b> Now we're almost done! WOOHOO! </b>\n",
    "\n",
    "<b> <span style=\"color: Purple\"> Previously, in the CRM Dataset, we had identified the following characters that had to be cleaned up in the dataset: </b>\n",
    "    \n",
    "<ol>\n",
    "    <li> @ = a </li> \n",
    "    <li>  3 = e </li>\n",
    "    <li> \\/ = v </li> \n",
    "    <li>  1 = i</li>\n",
    "    <li> 0 = o </li> \n",
    "    <li> $ = s </li> \n",
    "</ol> \n",
    "\n",
    "We had identified that the typos existed in the <b> First_Name_Last_Name Columns, and the <b> First_Name and <Last_Name> columns.\n",
    "\n",
    "We're now going to use the Data Cleansing Competencies that you have established to clean the data in the CRM_Data_Raw dataset!\n",
    "\n",
    "\n"
   ]
  },
  {
   "cell_type": "markdown",
   "metadata": {},
   "source": [
    "<h3> Question Eight </h3>\n",
    "\n",
    "Using your knowledge of how data cleansing works, **replace all the typos that currently exist in the CRM_Data_Raw datasource**.\n",
    "\n",
    "<b><span style=\"color: Purple\"> PS: Don't forget to import the CRM_Data_Raw dataset first else you'll have nothing to cleanse! </span> </b>\n",
    "\n",
    "\n"
   ]
  },
  {
   "cell_type": "markdown",
   "metadata": {},
   "source": [
    "<b><span style=\"color: #20b2aa\">Place your answer below here </style></b>"
   ]
  },
  {
   "cell_type": "code",
   "execution_count": 35,
   "metadata": {},
   "outputs": [
    {
     "name": "stdout",
     "output_type": "stream",
     "text": [
      "<class 'pandas.core.frame.DataFrame'>\n",
      "RangeIndex: 2200 entries, 0 to 2199\n",
      "Data columns (total 13 columns):\n",
      " #   Column                             Non-Null Count  Dtype \n",
      "---  ------                             --------------  ----- \n",
      " 0   Order_Status_Table.Order_ID        2200 non-null   int64 \n",
      " 1   Order_Status                       2200 non-null   object\n",
      " 2   Customer_Table.Customer_ID         2200 non-null   int64 \n",
      " 3   First_Name_Last_Name               2200 non-null   object\n",
      " 4   First_Name                         2200 non-null   object\n",
      " 5   Last_Name                          2200 non-null   object\n",
      " 6   Email_Address                      2200 non-null   object\n",
      " 7   Record_Created_On                  2200 non-null   object\n",
      " 8   IP_Address_Hashed                  2200 non-null   object\n",
      " 9   Product_Pricing_Table.Customer_ID  2200 non-null   int64 \n",
      " 10  Product_Pricing_Table.Order_ID     2200 non-null   int64 \n",
      " 11  Product_ID                         2200 non-null   object\n",
      " 12  Product_Price                      2200 non-null   object\n",
      "dtypes: int64(4), object(9)\n",
      "memory usage: 223.6+ KB\n"
     ]
    }
   ],
   "source": [
    "CRM = pd.read_csv('C:\\\\Users\\\\14087\\\\Untitled Folder\\\\CRM_Data_Raw.csv')\n",
    "CRM.info()"
   ]
  },
  {
   "cell_type": "code",
   "execution_count": 36,
   "metadata": {},
   "outputs": [
    {
     "data": {
      "text/html": [
       "<div>\n",
       "<style scoped>\n",
       "    .dataframe tbody tr th:only-of-type {\n",
       "        vertical-align: middle;\n",
       "    }\n",
       "\n",
       "    .dataframe tbody tr th {\n",
       "        vertical-align: top;\n",
       "    }\n",
       "\n",
       "    .dataframe thead th {\n",
       "        text-align: right;\n",
       "    }\n",
       "</style>\n",
       "<table border=\"1\" class=\"dataframe\">\n",
       "  <thead>\n",
       "    <tr style=\"text-align: right;\">\n",
       "      <th></th>\n",
       "      <th>Order_Status_Table.Order_ID</th>\n",
       "      <th>Order_Status</th>\n",
       "      <th>Customer_Table.Customer_ID</th>\n",
       "      <th>First_Name_Last_Name</th>\n",
       "      <th>First_Name</th>\n",
       "      <th>Last_Name</th>\n",
       "      <th>Email_Address</th>\n",
       "      <th>Record_Created_On</th>\n",
       "      <th>IP_Address_Hashed</th>\n",
       "      <th>Product_Pricing_Table.Customer_ID</th>\n",
       "      <th>Product_Pricing_Table.Order_ID</th>\n",
       "      <th>Product_ID</th>\n",
       "      <th>Product_Price</th>\n",
       "    </tr>\n",
       "  </thead>\n",
       "  <tbody>\n",
       "    <tr>\n",
       "      <th>0</th>\n",
       "      <td>4032</td>\n",
       "      <td>No_Response</td>\n",
       "      <td>100024032</td>\n",
       "      <td>Adam Harper</td>\n",
       "      <td>Adam</td>\n",
       "      <td>Harper</td>\n",
       "      <td>a.harper@yahoo.com</td>\n",
       "      <td>01-Nov-19</td>\n",
       "      <td>4XHM5FFN</td>\n",
       "      <td>100024032</td>\n",
       "      <td>4032</td>\n",
       "      <td>M1</td>\n",
       "      <td>$9.99</td>\n",
       "    </tr>\n",
       "    <tr>\n",
       "      <th>1</th>\n",
       "      <td>4130</td>\n",
       "      <td>Active</td>\n",
       "      <td>100024130</td>\n",
       "      <td>Mary Kelley</td>\n",
       "      <td>Mary</td>\n",
       "      <td>Kelley</td>\n",
       "      <td>m.kelley@gmail.com</td>\n",
       "      <td>02-Nov-19</td>\n",
       "      <td>49DVDVW3</td>\n",
       "      <td>100024130</td>\n",
       "      <td>4130</td>\n",
       "      <td>M12</td>\n",
       "      <td>$99.99</td>\n",
       "    </tr>\n",
       "    <tr>\n",
       "      <th>2</th>\n",
       "      <td>4143</td>\n",
       "      <td>No_Response</td>\n",
       "      <td>100024143</td>\n",
       "      <td>Cadie Carroll</td>\n",
       "      <td>Cadie</td>\n",
       "      <td>Carroll</td>\n",
       "      <td>c.carroll@gmail.com</td>\n",
       "      <td>03-Nov-19</td>\n",
       "      <td>RK5ALXJB</td>\n",
       "      <td>100024143</td>\n",
       "      <td>4143</td>\n",
       "      <td>M6</td>\n",
       "      <td>$69.99</td>\n",
       "    </tr>\n",
       "    <tr>\n",
       "      <th>3</th>\n",
       "      <td>4154</td>\n",
       "      <td>Active</td>\n",
       "      <td>100024154</td>\n",
       "      <td>Brooke Cole</td>\n",
       "      <td>Brooke</td>\n",
       "      <td>Cole</td>\n",
       "      <td>b.cole@gmail.com</td>\n",
       "      <td>03-Nov-19</td>\n",
       "      <td>DGB6C4I8</td>\n",
       "      <td>100024154</td>\n",
       "      <td>4154</td>\n",
       "      <td>M1</td>\n",
       "      <td>$9.99</td>\n",
       "    </tr>\n",
       "    <tr>\n",
       "      <th>4</th>\n",
       "      <td>4166</td>\n",
       "      <td>Active</td>\n",
       "      <td>100024166</td>\n",
       "      <td>Jacob Howard</td>\n",
       "      <td>Jacob</td>\n",
       "      <td>Howard</td>\n",
       "      <td>j.howard@gmail.com</td>\n",
       "      <td>03-Nov-19</td>\n",
       "      <td>XTK0XDA1</td>\n",
       "      <td>100024166</td>\n",
       "      <td>4166</td>\n",
       "      <td>M6</td>\n",
       "      <td>$69.99</td>\n",
       "    </tr>\n",
       "  </tbody>\n",
       "</table>\n",
       "</div>"
      ],
      "text/plain": [
       "   Order_Status_Table.Order_ID Order_Status  Customer_Table.Customer_ID  \\\n",
       "0                         4032  No_Response                   100024032   \n",
       "1                         4130       Active                   100024130   \n",
       "2                         4143  No_Response                   100024143   \n",
       "3                         4154       Active                   100024154   \n",
       "4                         4166       Active                   100024166   \n",
       "\n",
       "  First_Name_Last_Name First_Name Last_Name        Email_Address  \\\n",
       "0          Adam Harper       Adam    Harper   a.harper@yahoo.com   \n",
       "1          Mary Kelley       Mary    Kelley   m.kelley@gmail.com   \n",
       "2        Cadie Carroll      Cadie   Carroll  c.carroll@gmail.com   \n",
       "3          Brooke Cole     Brooke      Cole     b.cole@gmail.com   \n",
       "4         Jacob Howard      Jacob    Howard   j.howard@gmail.com   \n",
       "\n",
       "  Record_Created_On IP_Address_Hashed  Product_Pricing_Table.Customer_ID  \\\n",
       "0         01-Nov-19          4XHM5FFN                          100024032   \n",
       "1         02-Nov-19          49DVDVW3                          100024130   \n",
       "2         03-Nov-19          RK5ALXJB                          100024143   \n",
       "3         03-Nov-19          DGB6C4I8                          100024154   \n",
       "4         03-Nov-19          XTK0XDA1                          100024166   \n",
       "\n",
       "   Product_Pricing_Table.Order_ID Product_ID Product_Price  \n",
       "0                            4032         M1         $9.99  \n",
       "1                            4130        M12        $99.99  \n",
       "2                            4143         M6        $69.99  \n",
       "3                            4154         M1         $9.99  \n",
       "4                            4166         M6        $69.99  "
      ]
     },
     "execution_count": 36,
     "metadata": {},
     "output_type": "execute_result"
    }
   ],
   "source": [
    "CRM.head()"
   ]
  },
  {
   "cell_type": "code",
   "execution_count": 37,
   "metadata": {},
   "outputs": [
    {
     "name": "stdout",
     "output_type": "stream",
     "text": [
      "@ a\n",
      "3 e\n",
      "\\/ v\n",
      "1 i\n",
      "0 o\n",
      "$ s\n"
     ]
    }
   ],
   "source": [
    "def replacecharacterfunc (df, search, replacement, column) :\n",
    "    df[column] = df[column].str.replace(search, replacement)\n",
    "    \n",
    "replace_character_dict = {\n",
    "    '@' : 'a',\n",
    "    '3' : 'e',\n",
    "    '\\/' : 'v',\n",
    "    '1' : 'i',\n",
    "    '0' : 'o',\n",
    "    '$' : 's'\n",
    "}\n",
    "    \n",
    "for char, letter in replace_character_dict.items():\n",
    "    print(char, letter)\n",
    "    replacecharacterfunc(CRM, char, letter, 'First_Name_Last_Name')\n",
    "    replacecharacterfunc(CRM, char, letter, 'First_Name')\n",
    "    replacecharacterfunc(CRM, char, letter, 'Last_Name')"
   ]
  },
  {
   "cell_type": "markdown",
   "metadata": {},
   "source": [
    "<h3> ...and Now we're on the Home Stretch! </h3>\n"
   ]
  },
  {
   "cell_type": "markdown",
   "metadata": {},
   "source": [
    "Now you've cleansed both the CRM_Raw_Data set as well as the geographical data set (Cleansed_Dataframe).\n",
    "\n",
    "You're now ready to <b> MERGE </b> the two datasets into one overall dataset using the pd.merge() command.\n",
    "\n",
    "As a refresher in case you've forgotten, please reference the following Stack Overflow Link which provides an excellent overview of the merging function:\n",
    "https://stackoverflow.com/questions/53645882/pandas-merging-101\n"
   ]
  },
  {
   "cell_type": "markdown",
   "metadata": {},
   "source": [
    "<h3> Question Nine </h3>\n",
    "\n",
    "Using your knowledge of how pd.merge() works, **join up both the CRM_Raw_Data Dataframe and the Cleansed_Dataframe to create a new dataframe called CRM_Geographical_Joined**.\n",
    "\n",
    "<b><span style=\"color: Purple\"> PS: We want to join EVERYTHING in both datasets so think carefully what kind of JOIN you want to use </span> </b>\n"
   ]
  },
  {
   "cell_type": "markdown",
   "metadata": {},
   "source": [
    "![Str_Contains_Assistance](img/Join_Types.jpg)"
   ]
  },
  {
   "cell_type": "markdown",
   "metadata": {},
   "source": [
    "<b><span style=\"color: #20b2aa\">Place your answer below here </style></b>"
   ]
  },
  {
   "cell_type": "code",
   "execution_count": 38,
   "metadata": {},
   "outputs": [
    {
     "name": "stdout",
     "output_type": "stream",
     "text": [
      "<class 'pandas.core.frame.DataFrame'>\n",
      "Int64Index: 2200 entries, 0 to 2185\n",
      "Data columns (total 4 columns):\n",
      " #   Column    Non-Null Count  Dtype \n",
      "---  ------    --------------  ----- \n",
      " 0   CustID    2200 non-null   object\n",
      " 1   Region    2200 non-null   object\n",
      " 2   State     2200 non-null   object\n",
      " 3   Zip Code  2126 non-null   object\n",
      "dtypes: object(4)\n",
      "memory usage: 85.9+ KB\n"
     ]
    }
   ],
   "source": [
    "cleaned_demographic.info()"
   ]
  },
  {
   "cell_type": "code",
   "execution_count": 39,
   "metadata": {},
   "outputs": [
    {
     "data": {
      "text/html": [
       "<div>\n",
       "<style scoped>\n",
       "    .dataframe tbody tr th:only-of-type {\n",
       "        vertical-align: middle;\n",
       "    }\n",
       "\n",
       "    .dataframe tbody tr th {\n",
       "        vertical-align: top;\n",
       "    }\n",
       "\n",
       "    .dataframe thead th {\n",
       "        text-align: right;\n",
       "    }\n",
       "</style>\n",
       "<table border=\"1\" class=\"dataframe\">\n",
       "  <thead>\n",
       "    <tr style=\"text-align: right;\">\n",
       "      <th></th>\n",
       "      <th>CustID</th>\n",
       "      <th>Region</th>\n",
       "      <th>State</th>\n",
       "      <th>Zip Code</th>\n",
       "    </tr>\n",
       "  </thead>\n",
       "  <tbody>\n",
       "    <tr>\n",
       "      <th>0</th>\n",
       "      <td>100024032</td>\n",
       "      <td>South Atlantic</td>\n",
       "      <td>Virginia</td>\n",
       "      <td>23462</td>\n",
       "    </tr>\n",
       "    <tr>\n",
       "      <th>1</th>\n",
       "      <td>100024130</td>\n",
       "      <td>South Atlantic</td>\n",
       "      <td>Virginia</td>\n",
       "      <td>23462</td>\n",
       "    </tr>\n",
       "    <tr>\n",
       "      <th>2</th>\n",
       "      <td>100024143</td>\n",
       "      <td>South Atlantic</td>\n",
       "      <td>Virginia</td>\n",
       "      <td>23462</td>\n",
       "    </tr>\n",
       "    <tr>\n",
       "      <th>3</th>\n",
       "      <td>100024154</td>\n",
       "      <td>South Atlantic</td>\n",
       "      <td>Virginia</td>\n",
       "      <td>23462</td>\n",
       "    </tr>\n",
       "    <tr>\n",
       "      <th>4</th>\n",
       "      <td>100024166</td>\n",
       "      <td>South Atlantic</td>\n",
       "      <td>Virginia</td>\n",
       "      <td>23462</td>\n",
       "    </tr>\n",
       "  </tbody>\n",
       "</table>\n",
       "</div>"
      ],
      "text/plain": [
       "      CustID           Region     State Zip Code\n",
       "0  100024032  South Atlantic   Virginia    23462\n",
       "1  100024130  South Atlantic   Virginia    23462\n",
       "2  100024143  South Atlantic   Virginia    23462\n",
       "3  100024154  South Atlantic   Virginia    23462\n",
       "4  100024166  South Atlantic   Virginia    23462"
      ]
     },
     "execution_count": 39,
     "metadata": {},
     "output_type": "execute_result"
    }
   ],
   "source": [
    "cleaned_demographic.head()"
   ]
  },
  {
   "cell_type": "code",
   "execution_count": 40,
   "metadata": {},
   "outputs": [
    {
     "name": "stdout",
     "output_type": "stream",
     "text": [
      "<class 'pandas.core.frame.DataFrame'>\n",
      "RangeIndex: 2200 entries, 0 to 2199\n",
      "Data columns (total 13 columns):\n",
      " #   Column                             Non-Null Count  Dtype \n",
      "---  ------                             --------------  ----- \n",
      " 0   Order_Status_Table.Order_ID        2200 non-null   int64 \n",
      " 1   Order_Status                       2200 non-null   object\n",
      " 2   Customer_Table.Customer_ID         2200 non-null   int64 \n",
      " 3   First_Name_Last_Name               2200 non-null   object\n",
      " 4   First_Name                         2200 non-null   object\n",
      " 5   Last_Name                          2200 non-null   object\n",
      " 6   Email_Address                      2200 non-null   object\n",
      " 7   Record_Created_On                  2200 non-null   object\n",
      " 8   IP_Address_Hashed                  2200 non-null   object\n",
      " 9   Product_Pricing_Table.Customer_ID  2200 non-null   int64 \n",
      " 10  Product_Pricing_Table.Order_ID     2200 non-null   int64 \n",
      " 11  Product_ID                         2200 non-null   object\n",
      " 12  Product_Price                      2200 non-null   object\n",
      "dtypes: int64(4), object(9)\n",
      "memory usage: 223.6+ KB\n"
     ]
    }
   ],
   "source": [
    "CRM.info()"
   ]
  },
  {
   "cell_type": "code",
   "execution_count": 41,
   "metadata": {},
   "outputs": [
    {
     "data": {
      "text/html": [
       "<div>\n",
       "<style scoped>\n",
       "    .dataframe tbody tr th:only-of-type {\n",
       "        vertical-align: middle;\n",
       "    }\n",
       "\n",
       "    .dataframe tbody tr th {\n",
       "        vertical-align: top;\n",
       "    }\n",
       "\n",
       "    .dataframe thead th {\n",
       "        text-align: right;\n",
       "    }\n",
       "</style>\n",
       "<table border=\"1\" class=\"dataframe\">\n",
       "  <thead>\n",
       "    <tr style=\"text-align: right;\">\n",
       "      <th></th>\n",
       "      <th>Order_Status_Table.Order_ID</th>\n",
       "      <th>Order_Status</th>\n",
       "      <th>Customer_Table.Customer_ID</th>\n",
       "      <th>First_Name_Last_Name</th>\n",
       "      <th>First_Name</th>\n",
       "      <th>Last_Name</th>\n",
       "      <th>Email_Address</th>\n",
       "      <th>Record_Created_On</th>\n",
       "      <th>IP_Address_Hashed</th>\n",
       "      <th>Product_Pricing_Table.Customer_ID</th>\n",
       "      <th>Product_Pricing_Table.Order_ID</th>\n",
       "      <th>Product_ID</th>\n",
       "      <th>Product_Price</th>\n",
       "    </tr>\n",
       "  </thead>\n",
       "  <tbody>\n",
       "    <tr>\n",
       "      <th>0</th>\n",
       "      <td>4032</td>\n",
       "      <td>No_Response</td>\n",
       "      <td>100024032</td>\n",
       "      <td>Adam Harper</td>\n",
       "      <td>Adam</td>\n",
       "      <td>Harper</td>\n",
       "      <td>a.harper@yahoo.com</td>\n",
       "      <td>01-Nov-19</td>\n",
       "      <td>4XHM5FFN</td>\n",
       "      <td>100024032</td>\n",
       "      <td>4032</td>\n",
       "      <td>M1</td>\n",
       "      <td>$9.99</td>\n",
       "    </tr>\n",
       "    <tr>\n",
       "      <th>1</th>\n",
       "      <td>4130</td>\n",
       "      <td>Active</td>\n",
       "      <td>100024130</td>\n",
       "      <td>Mary Kelley</td>\n",
       "      <td>Mary</td>\n",
       "      <td>Kelley</td>\n",
       "      <td>m.kelley@gmail.com</td>\n",
       "      <td>02-Nov-19</td>\n",
       "      <td>49DVDVW3</td>\n",
       "      <td>100024130</td>\n",
       "      <td>4130</td>\n",
       "      <td>M12</td>\n",
       "      <td>$99.99</td>\n",
       "    </tr>\n",
       "    <tr>\n",
       "      <th>2</th>\n",
       "      <td>4143</td>\n",
       "      <td>No_Response</td>\n",
       "      <td>100024143</td>\n",
       "      <td>Cadie Carroll</td>\n",
       "      <td>Cadie</td>\n",
       "      <td>Carroll</td>\n",
       "      <td>c.carroll@gmail.com</td>\n",
       "      <td>03-Nov-19</td>\n",
       "      <td>RK5ALXJB</td>\n",
       "      <td>100024143</td>\n",
       "      <td>4143</td>\n",
       "      <td>M6</td>\n",
       "      <td>$69.99</td>\n",
       "    </tr>\n",
       "    <tr>\n",
       "      <th>3</th>\n",
       "      <td>4154</td>\n",
       "      <td>Active</td>\n",
       "      <td>100024154</td>\n",
       "      <td>Brooke Cole</td>\n",
       "      <td>Brooke</td>\n",
       "      <td>Cole</td>\n",
       "      <td>b.cole@gmail.com</td>\n",
       "      <td>03-Nov-19</td>\n",
       "      <td>DGB6C4I8</td>\n",
       "      <td>100024154</td>\n",
       "      <td>4154</td>\n",
       "      <td>M1</td>\n",
       "      <td>$9.99</td>\n",
       "    </tr>\n",
       "    <tr>\n",
       "      <th>4</th>\n",
       "      <td>4166</td>\n",
       "      <td>Active</td>\n",
       "      <td>100024166</td>\n",
       "      <td>Jacob Howard</td>\n",
       "      <td>Jacob</td>\n",
       "      <td>Howard</td>\n",
       "      <td>j.howard@gmail.com</td>\n",
       "      <td>03-Nov-19</td>\n",
       "      <td>XTK0XDA1</td>\n",
       "      <td>100024166</td>\n",
       "      <td>4166</td>\n",
       "      <td>M6</td>\n",
       "      <td>$69.99</td>\n",
       "    </tr>\n",
       "  </tbody>\n",
       "</table>\n",
       "</div>"
      ],
      "text/plain": [
       "   Order_Status_Table.Order_ID Order_Status  Customer_Table.Customer_ID  \\\n",
       "0                         4032  No_Response                   100024032   \n",
       "1                         4130       Active                   100024130   \n",
       "2                         4143  No_Response                   100024143   \n",
       "3                         4154       Active                   100024154   \n",
       "4                         4166       Active                   100024166   \n",
       "\n",
       "  First_Name_Last_Name First_Name Last_Name        Email_Address  \\\n",
       "0          Adam Harper       Adam    Harper   a.harper@yahoo.com   \n",
       "1          Mary Kelley       Mary    Kelley   m.kelley@gmail.com   \n",
       "2        Cadie Carroll      Cadie   Carroll  c.carroll@gmail.com   \n",
       "3          Brooke Cole     Brooke      Cole     b.cole@gmail.com   \n",
       "4         Jacob Howard      Jacob    Howard   j.howard@gmail.com   \n",
       "\n",
       "  Record_Created_On IP_Address_Hashed  Product_Pricing_Table.Customer_ID  \\\n",
       "0         01-Nov-19          4XHM5FFN                          100024032   \n",
       "1         02-Nov-19          49DVDVW3                          100024130   \n",
       "2         03-Nov-19          RK5ALXJB                          100024143   \n",
       "3         03-Nov-19          DGB6C4I8                          100024154   \n",
       "4         03-Nov-19          XTK0XDA1                          100024166   \n",
       "\n",
       "   Product_Pricing_Table.Order_ID Product_ID Product_Price  \n",
       "0                            4032         M1         $9.99  \n",
       "1                            4130        M12        $99.99  \n",
       "2                            4143         M6        $69.99  \n",
       "3                            4154         M1         $9.99  \n",
       "4                            4166         M6        $69.99  "
      ]
     },
     "execution_count": 41,
     "metadata": {},
     "output_type": "execute_result"
    }
   ],
   "source": [
    "CRM.head()"
   ]
  },
  {
   "cell_type": "code",
   "execution_count": 42,
   "metadata": {},
   "outputs": [
    {
     "data": {
      "text/plain": [
       "Index(['Order_Status_Table.Order_ID', 'Order_Status',\n",
       "       'Customer_Table.Customer_ID', 'First_Name_Last_Name', 'First_Name',\n",
       "       'Last_Name', 'Email_Address', 'Record_Created_On', 'IP_Address_Hashed',\n",
       "       'Product_Pricing_Table.Customer_ID', 'Product_Pricing_Table.Order_ID',\n",
       "       'Product_ID', 'Product_Price'],\n",
       "      dtype='object')"
      ]
     },
     "execution_count": 42,
     "metadata": {},
     "output_type": "execute_result"
    }
   ],
   "source": [
    "CRM.columns"
   ]
  },
  {
   "cell_type": "code",
   "execution_count": 43,
   "metadata": {},
   "outputs": [
    {
     "data": {
      "text/html": [
       "<div>\n",
       "<style scoped>\n",
       "    .dataframe tbody tr th:only-of-type {\n",
       "        vertical-align: middle;\n",
       "    }\n",
       "\n",
       "    .dataframe tbody tr th {\n",
       "        vertical-align: top;\n",
       "    }\n",
       "\n",
       "    .dataframe thead th {\n",
       "        text-align: right;\n",
       "    }\n",
       "</style>\n",
       "<table border=\"1\" class=\"dataframe\">\n",
       "  <thead>\n",
       "    <tr style=\"text-align: right;\">\n",
       "      <th></th>\n",
       "      <th>Order_Status_Table.Order_ID</th>\n",
       "      <th>Order_Status</th>\n",
       "      <th>Customer_Table.Customer_ID</th>\n",
       "      <th>First_Name_Last_Name</th>\n",
       "      <th>First_Name</th>\n",
       "      <th>Last_Name</th>\n",
       "      <th>Email_Address</th>\n",
       "      <th>Record_Created_On</th>\n",
       "      <th>IP_Address_Hashed</th>\n",
       "      <th>Product_Pricing_Table.Customer_ID</th>\n",
       "      <th>Product_Pricing_Table.Order_ID</th>\n",
       "      <th>Product_ID</th>\n",
       "      <th>Product_Price</th>\n",
       "      <th>CustID</th>\n",
       "      <th>Region</th>\n",
       "      <th>State</th>\n",
       "      <th>Zip Code</th>\n",
       "    </tr>\n",
       "  </thead>\n",
       "  <tbody>\n",
       "    <tr>\n",
       "      <th>0</th>\n",
       "      <td>4032</td>\n",
       "      <td>No_Response</td>\n",
       "      <td>100024032</td>\n",
       "      <td>Adam Harper</td>\n",
       "      <td>Adam</td>\n",
       "      <td>Harper</td>\n",
       "      <td>a.harper@yahoo.com</td>\n",
       "      <td>01-Nov-19</td>\n",
       "      <td>4XHM5FFN</td>\n",
       "      <td>100024032</td>\n",
       "      <td>4032</td>\n",
       "      <td>M1</td>\n",
       "      <td>$9.99</td>\n",
       "      <td>100024032</td>\n",
       "      <td>South Atlantic</td>\n",
       "      <td>Virginia</td>\n",
       "      <td>23462</td>\n",
       "    </tr>\n",
       "    <tr>\n",
       "      <th>1</th>\n",
       "      <td>4130</td>\n",
       "      <td>Active</td>\n",
       "      <td>100024130</td>\n",
       "      <td>Mary Kelley</td>\n",
       "      <td>Mary</td>\n",
       "      <td>Kelley</td>\n",
       "      <td>m.kelley@gmail.com</td>\n",
       "      <td>02-Nov-19</td>\n",
       "      <td>49DVDVW3</td>\n",
       "      <td>100024130</td>\n",
       "      <td>4130</td>\n",
       "      <td>M12</td>\n",
       "      <td>$99.99</td>\n",
       "      <td>100024130</td>\n",
       "      <td>South Atlantic</td>\n",
       "      <td>Virginia</td>\n",
       "      <td>23462</td>\n",
       "    </tr>\n",
       "    <tr>\n",
       "      <th>2</th>\n",
       "      <td>4143</td>\n",
       "      <td>No_Response</td>\n",
       "      <td>100024143</td>\n",
       "      <td>Cadie Carroll</td>\n",
       "      <td>Cadie</td>\n",
       "      <td>Carroll</td>\n",
       "      <td>c.carroll@gmail.com</td>\n",
       "      <td>03-Nov-19</td>\n",
       "      <td>RK5ALXJB</td>\n",
       "      <td>100024143</td>\n",
       "      <td>4143</td>\n",
       "      <td>M6</td>\n",
       "      <td>$69.99</td>\n",
       "      <td>100024143</td>\n",
       "      <td>South Atlantic</td>\n",
       "      <td>Virginia</td>\n",
       "      <td>23462</td>\n",
       "    </tr>\n",
       "    <tr>\n",
       "      <th>3</th>\n",
       "      <td>4154</td>\n",
       "      <td>Active</td>\n",
       "      <td>100024154</td>\n",
       "      <td>Brooke Cole</td>\n",
       "      <td>Brooke</td>\n",
       "      <td>Cole</td>\n",
       "      <td>b.cole@gmail.com</td>\n",
       "      <td>03-Nov-19</td>\n",
       "      <td>DGB6C4I8</td>\n",
       "      <td>100024154</td>\n",
       "      <td>4154</td>\n",
       "      <td>M1</td>\n",
       "      <td>$9.99</td>\n",
       "      <td>100024154</td>\n",
       "      <td>South Atlantic</td>\n",
       "      <td>Virginia</td>\n",
       "      <td>23462</td>\n",
       "    </tr>\n",
       "    <tr>\n",
       "      <th>4</th>\n",
       "      <td>4166</td>\n",
       "      <td>Active</td>\n",
       "      <td>100024166</td>\n",
       "      <td>Jacob Howard</td>\n",
       "      <td>Jacob</td>\n",
       "      <td>Howard</td>\n",
       "      <td>j.howard@gmail.com</td>\n",
       "      <td>03-Nov-19</td>\n",
       "      <td>XTK0XDA1</td>\n",
       "      <td>100024166</td>\n",
       "      <td>4166</td>\n",
       "      <td>M6</td>\n",
       "      <td>$69.99</td>\n",
       "      <td>100024166</td>\n",
       "      <td>South Atlantic</td>\n",
       "      <td>Virginia</td>\n",
       "      <td>23462</td>\n",
       "    </tr>\n",
       "  </tbody>\n",
       "</table>\n",
       "</div>"
      ],
      "text/plain": [
       "   Order_Status_Table.Order_ID Order_Status Customer_Table.Customer_ID  \\\n",
       "0                         4032  No_Response                  100024032   \n",
       "1                         4130       Active                  100024130   \n",
       "2                         4143  No_Response                  100024143   \n",
       "3                         4154       Active                  100024154   \n",
       "4                         4166       Active                  100024166   \n",
       "\n",
       "  First_Name_Last_Name First_Name Last_Name        Email_Address  \\\n",
       "0          Adam Harper       Adam    Harper   a.harper@yahoo.com   \n",
       "1          Mary Kelley       Mary    Kelley   m.kelley@gmail.com   \n",
       "2        Cadie Carroll      Cadie   Carroll  c.carroll@gmail.com   \n",
       "3          Brooke Cole     Brooke      Cole     b.cole@gmail.com   \n",
       "4         Jacob Howard      Jacob    Howard   j.howard@gmail.com   \n",
       "\n",
       "  Record_Created_On IP_Address_Hashed  Product_Pricing_Table.Customer_ID  \\\n",
       "0         01-Nov-19          4XHM5FFN                          100024032   \n",
       "1         02-Nov-19          49DVDVW3                          100024130   \n",
       "2         03-Nov-19          RK5ALXJB                          100024143   \n",
       "3         03-Nov-19          DGB6C4I8                          100024154   \n",
       "4         03-Nov-19          XTK0XDA1                          100024166   \n",
       "\n",
       "   Product_Pricing_Table.Order_ID Product_ID Product_Price     CustID  \\\n",
       "0                            4032         M1         $9.99  100024032   \n",
       "1                            4130        M12        $99.99  100024130   \n",
       "2                            4143         M6        $69.99  100024143   \n",
       "3                            4154         M1         $9.99  100024154   \n",
       "4                            4166         M6        $69.99  100024166   \n",
       "\n",
       "            Region     State Zip Code  \n",
       "0  South Atlantic   Virginia    23462  \n",
       "1  South Atlantic   Virginia    23462  \n",
       "2  South Atlantic   Virginia    23462  \n",
       "3  South Atlantic   Virginia    23462  \n",
       "4  South Atlantic   Virginia    23462  "
      ]
     },
     "execution_count": 43,
     "metadata": {},
     "output_type": "execute_result"
    }
   ],
   "source": [
    "merged_df = CRM.merge(cleaned_demographic, how='left', left_on='Customer_Table.Customer_ID', right_on='CustID')\n",
    "merged_df.head()"
   ]
  },
  {
   "cell_type": "markdown",
   "metadata": {},
   "source": [
    "You've now gone through and not only cleansed in BOTH datasets, you've additionally merged this together and we're now ready to close out our analysis!\n",
    "\n",
    "<h1> Woohoo! </h1>\n",
    "\n",
    "<b> Let's revisit the problem briefly. </b>\n",
    "\n",
    "Management want to have an quick and dirty understanding of which 3 regions have the highest sales revenues.\n",
    "\n",
    "Marketing will focus on these regions, before focusing lastly, on Zip Codes for each of the 3 regions.\n",
    "\n",
    "Now that we've been able to join up the data effectively, we can now answer these question and visualise this with a series of charts using the Seaborn Library! \n",
    "\n",
    "As this is a Quick and Dirty Analysis, we needn't worry about classification of the data into Valid and Invalid entries as we had done previously in Excel. \n",
    "\n",
    "<b> A) Using the Cleansed_Dataframe, create a chart which that shows the top 3 regions in terms of sales revenues? (i.e Price) </b>\n",
    "\n",
    "<b> B) Having identified which region brings in the largest amount of revenues, within these 3 regions - which states bring in the largest proportion of revenues? </b>\n",
    "\n",
    "<b> C) Having identified the states within each region that bring in the most revenues - What are the top 3 Zip Codes we should focus our marketing efforts on based off Sales Revenues? </b>\n",
    "\n",
    "\n",
    "\n"
   ]
  },
  {
   "cell_type": "markdown",
   "metadata": {
    "tags": []
   },
   "source": []
  },
  {
   "cell_type": "markdown",
   "metadata": {},
   "source": [
    "<h3> Question Ten </h3>\n"
   ]
  },
  {
   "cell_type": "markdown",
   "metadata": {},
   "source": [
    "<b> A) Using the Cleansed_Dataframe, create a column chart which that shows the top 3 regions in terms of sales revenues? (i.e Price) </b>\n",
    "\n",
    "<b> <span style=\"color: Purple\"> Think carefully regarding how you could group the region data together with the functions you've learned previously! </b>\n"
   ]
  },
  {
   "cell_type": "markdown",
   "metadata": {},
   "source": [
    "<b><span style=\"color: #20b2aa\">Place your answer below here </style></b>"
   ]
  },
  {
   "cell_type": "code",
   "execution_count": 44,
   "metadata": {},
   "outputs": [
    {
     "data": {
      "text/plain": [
       "Index(['Order_Status_Table.Order_ID', 'Order_Status',\n",
       "       'Customer_Table.Customer_ID', 'First_Name_Last_Name', 'First_Name',\n",
       "       'Last_Name', 'Email_Address', 'Record_Created_On', 'IP_Address_Hashed',\n",
       "       'Product_Pricing_Table.Customer_ID', 'Product_Pricing_Table.Order_ID',\n",
       "       'Product_ID', 'Product_Price', 'CustID', 'Region', 'State', 'Zip Code'],\n",
       "      dtype='object')"
      ]
     },
     "execution_count": 44,
     "metadata": {},
     "output_type": "execute_result"
    }
   ],
   "source": [
    "merged_df.columns"
   ]
  },
  {
   "cell_type": "code",
   "execution_count": 45,
   "metadata": {},
   "outputs": [
    {
     "name": "stdout",
     "output_type": "stream",
     "text": [
      "<class 'pandas.core.frame.DataFrame'>\n",
      "Int64Index: 2200 entries, 0 to 2199\n",
      "Data columns (total 17 columns):\n",
      " #   Column                             Non-Null Count  Dtype \n",
      "---  ------                             --------------  ----- \n",
      " 0   Order_Status_Table.Order_ID        2200 non-null   int64 \n",
      " 1   Order_Status                       2200 non-null   object\n",
      " 2   Customer_Table.Customer_ID         2200 non-null   object\n",
      " 3   First_Name_Last_Name               2200 non-null   object\n",
      " 4   First_Name                         2200 non-null   object\n",
      " 5   Last_Name                          2200 non-null   object\n",
      " 6   Email_Address                      2200 non-null   object\n",
      " 7   Record_Created_On                  2200 non-null   object\n",
      " 8   IP_Address_Hashed                  2200 non-null   object\n",
      " 9   Product_Pricing_Table.Customer_ID  2200 non-null   int64 \n",
      " 10  Product_Pricing_Table.Order_ID     2200 non-null   int64 \n",
      " 11  Product_ID                         2200 non-null   object\n",
      " 12  Product_Price                      2200 non-null   object\n",
      " 13  CustID                             2093 non-null   object\n",
      " 14  Region                             2093 non-null   object\n",
      " 15  State                              2093 non-null   object\n",
      " 16  Zip Code                           2019 non-null   object\n",
      "dtypes: int64(3), object(14)\n",
      "memory usage: 309.4+ KB\n"
     ]
    }
   ],
   "source": [
    "merged_df.info()"
   ]
  },
  {
   "cell_type": "code",
   "execution_count": 46,
   "metadata": {},
   "outputs": [],
   "source": [
    "merged_df['Product_Price'] = merged_df['Product_Price'].str.replace('$', '')\n",
    "merged_df['Product_Price'] = merged_df['Product_Price'].astype('float')"
   ]
  },
  {
   "cell_type": "code",
   "execution_count": 47,
   "metadata": {},
   "outputs": [
    {
     "data": {
      "text/html": [
       "<div>\n",
       "<style scoped>\n",
       "    .dataframe tbody tr th:only-of-type {\n",
       "        vertical-align: middle;\n",
       "    }\n",
       "\n",
       "    .dataframe tbody tr th {\n",
       "        vertical-align: top;\n",
       "    }\n",
       "\n",
       "    .dataframe thead th {\n",
       "        text-align: right;\n",
       "    }\n",
       "</style>\n",
       "<table border=\"1\" class=\"dataframe\">\n",
       "  <thead>\n",
       "    <tr style=\"text-align: right;\">\n",
       "      <th></th>\n",
       "      <th>Order_Status_Table.Order_ID</th>\n",
       "      <th>Order_Status</th>\n",
       "      <th>Customer_Table.Customer_ID</th>\n",
       "      <th>First_Name_Last_Name</th>\n",
       "      <th>First_Name</th>\n",
       "      <th>Last_Name</th>\n",
       "      <th>Email_Address</th>\n",
       "      <th>Record_Created_On</th>\n",
       "      <th>IP_Address_Hashed</th>\n",
       "      <th>Product_Pricing_Table.Customer_ID</th>\n",
       "      <th>Product_Pricing_Table.Order_ID</th>\n",
       "      <th>Product_ID</th>\n",
       "      <th>Product_Price</th>\n",
       "      <th>CustID</th>\n",
       "      <th>Region</th>\n",
       "      <th>State</th>\n",
       "      <th>Zip Code</th>\n",
       "    </tr>\n",
       "  </thead>\n",
       "  <tbody>\n",
       "    <tr>\n",
       "      <th>0</th>\n",
       "      <td>4032</td>\n",
       "      <td>No_Response</td>\n",
       "      <td>100024032</td>\n",
       "      <td>Adam Harper</td>\n",
       "      <td>Adam</td>\n",
       "      <td>Harper</td>\n",
       "      <td>a.harper@yahoo.com</td>\n",
       "      <td>01-Nov-19</td>\n",
       "      <td>4XHM5FFN</td>\n",
       "      <td>100024032</td>\n",
       "      <td>4032</td>\n",
       "      <td>M1</td>\n",
       "      <td>9.99</td>\n",
       "      <td>100024032</td>\n",
       "      <td>South Atlantic</td>\n",
       "      <td>Virginia</td>\n",
       "      <td>23462</td>\n",
       "    </tr>\n",
       "    <tr>\n",
       "      <th>1</th>\n",
       "      <td>4130</td>\n",
       "      <td>Active</td>\n",
       "      <td>100024130</td>\n",
       "      <td>Mary Kelley</td>\n",
       "      <td>Mary</td>\n",
       "      <td>Kelley</td>\n",
       "      <td>m.kelley@gmail.com</td>\n",
       "      <td>02-Nov-19</td>\n",
       "      <td>49DVDVW3</td>\n",
       "      <td>100024130</td>\n",
       "      <td>4130</td>\n",
       "      <td>M12</td>\n",
       "      <td>99.99</td>\n",
       "      <td>100024130</td>\n",
       "      <td>South Atlantic</td>\n",
       "      <td>Virginia</td>\n",
       "      <td>23462</td>\n",
       "    </tr>\n",
       "    <tr>\n",
       "      <th>2</th>\n",
       "      <td>4143</td>\n",
       "      <td>No_Response</td>\n",
       "      <td>100024143</td>\n",
       "      <td>Cadie Carroll</td>\n",
       "      <td>Cadie</td>\n",
       "      <td>Carroll</td>\n",
       "      <td>c.carroll@gmail.com</td>\n",
       "      <td>03-Nov-19</td>\n",
       "      <td>RK5ALXJB</td>\n",
       "      <td>100024143</td>\n",
       "      <td>4143</td>\n",
       "      <td>M6</td>\n",
       "      <td>69.99</td>\n",
       "      <td>100024143</td>\n",
       "      <td>South Atlantic</td>\n",
       "      <td>Virginia</td>\n",
       "      <td>23462</td>\n",
       "    </tr>\n",
       "    <tr>\n",
       "      <th>3</th>\n",
       "      <td>4154</td>\n",
       "      <td>Active</td>\n",
       "      <td>100024154</td>\n",
       "      <td>Brooke Cole</td>\n",
       "      <td>Brooke</td>\n",
       "      <td>Cole</td>\n",
       "      <td>b.cole@gmail.com</td>\n",
       "      <td>03-Nov-19</td>\n",
       "      <td>DGB6C4I8</td>\n",
       "      <td>100024154</td>\n",
       "      <td>4154</td>\n",
       "      <td>M1</td>\n",
       "      <td>9.99</td>\n",
       "      <td>100024154</td>\n",
       "      <td>South Atlantic</td>\n",
       "      <td>Virginia</td>\n",
       "      <td>23462</td>\n",
       "    </tr>\n",
       "    <tr>\n",
       "      <th>4</th>\n",
       "      <td>4166</td>\n",
       "      <td>Active</td>\n",
       "      <td>100024166</td>\n",
       "      <td>Jacob Howard</td>\n",
       "      <td>Jacob</td>\n",
       "      <td>Howard</td>\n",
       "      <td>j.howard@gmail.com</td>\n",
       "      <td>03-Nov-19</td>\n",
       "      <td>XTK0XDA1</td>\n",
       "      <td>100024166</td>\n",
       "      <td>4166</td>\n",
       "      <td>M6</td>\n",
       "      <td>69.99</td>\n",
       "      <td>100024166</td>\n",
       "      <td>South Atlantic</td>\n",
       "      <td>Virginia</td>\n",
       "      <td>23462</td>\n",
       "    </tr>\n",
       "  </tbody>\n",
       "</table>\n",
       "</div>"
      ],
      "text/plain": [
       "   Order_Status_Table.Order_ID Order_Status Customer_Table.Customer_ID  \\\n",
       "0                         4032  No_Response                  100024032   \n",
       "1                         4130       Active                  100024130   \n",
       "2                         4143  No_Response                  100024143   \n",
       "3                         4154       Active                  100024154   \n",
       "4                         4166       Active                  100024166   \n",
       "\n",
       "  First_Name_Last_Name First_Name Last_Name        Email_Address  \\\n",
       "0          Adam Harper       Adam    Harper   a.harper@yahoo.com   \n",
       "1          Mary Kelley       Mary    Kelley   m.kelley@gmail.com   \n",
       "2        Cadie Carroll      Cadie   Carroll  c.carroll@gmail.com   \n",
       "3          Brooke Cole     Brooke      Cole     b.cole@gmail.com   \n",
       "4         Jacob Howard      Jacob    Howard   j.howard@gmail.com   \n",
       "\n",
       "  Record_Created_On IP_Address_Hashed  Product_Pricing_Table.Customer_ID  \\\n",
       "0         01-Nov-19          4XHM5FFN                          100024032   \n",
       "1         02-Nov-19          49DVDVW3                          100024130   \n",
       "2         03-Nov-19          RK5ALXJB                          100024143   \n",
       "3         03-Nov-19          DGB6C4I8                          100024154   \n",
       "4         03-Nov-19          XTK0XDA1                          100024166   \n",
       "\n",
       "   Product_Pricing_Table.Order_ID Product_ID  Product_Price     CustID  \\\n",
       "0                            4032         M1           9.99  100024032   \n",
       "1                            4130        M12          99.99  100024130   \n",
       "2                            4143         M6          69.99  100024143   \n",
       "3                            4154         M1           9.99  100024154   \n",
       "4                            4166         M6          69.99  100024166   \n",
       "\n",
       "            Region     State Zip Code  \n",
       "0  South Atlantic   Virginia    23462  \n",
       "1  South Atlantic   Virginia    23462  \n",
       "2  South Atlantic   Virginia    23462  \n",
       "3  South Atlantic   Virginia    23462  \n",
       "4  South Atlantic   Virginia    23462  "
      ]
     },
     "execution_count": 47,
     "metadata": {},
     "output_type": "execute_result"
    }
   ],
   "source": [
    "merged_df.head()"
   ]
  },
  {
   "cell_type": "code",
   "execution_count": 48,
   "metadata": {},
   "outputs": [
    {
     "data": {
      "image/png": "[encoded data removed]",
      "text/plain": [
       "<Figure size 720x432 with 1 Axes>"
      ]
     },
     "metadata": {
      "needs_background": "light"
     },
     "output_type": "display_data"
    }
   ],
   "source": [
    "plt.rcParams[\"figure.figsize\"] = (10, 6)\n",
    "merged_df.groupby('Region').sum()['Product_Price'].sort_values().plot(kind='bar')\n",
    "plt.show()"
   ]
  },
  {
   "cell_type": "code",
   "execution_count": 51,
   "metadata": {},
   "outputs": [
    {
     "data": {
      "image/png": "[encoded data removed]",
      "text/plain": [
       "<Figure size 720x432 with 1 Axes>"
      ]
     },
     "metadata": {
      "needs_background": "light"
     },
     "output_type": "display_data"
    }
   ],
   "source": [
    "grouped_region_df = merged_df.groupby('Region').sum()['Product_Price'].sort_values()\n",
    "grouped_region_df = grouped_region_df.reset_index()\n",
    "sns.barplot(x='Region', y='Product_Price', data=grouped_region_df, color=\"salmon\")\n",
    "plt.show()"
   ]
  },
  {
   "cell_type": "markdown",
   "metadata": {},
   "source": [
    "<h3> Question Eleven </h3>\n"
   ]
  },
  {
   "cell_type": "markdown",
   "metadata": {},
   "source": [
    "<b> Having identified which region brings in the largest amount of revenues, within these 3 regions - which states bring in the largest proportion of revenues?</b>\n",
    "\n",
    "<b> <span style=\"color: Purple\"> Think carefully regarding how you could group the state data together with the functions you've learned previously! </b>\n"
   ]
  },
  {
   "cell_type": "markdown",
   "metadata": {},
   "source": [
    "<b><span style=\"color: #20b2aa\">Place your answer below here </style></b>"
   ]
  },
  {
   "cell_type": "code",
   "execution_count": 69,
   "metadata": {},
   "outputs": [
    {
     "data": {
      "text/plain": [
       "Region         State       \n",
       "North Central  Illinois         4919.16\n",
       "               Indiana          2059.59\n",
       "               Iowa              509.91\n",
       "               Michigan         3369.36\n",
       "               Minnesota        1939.74\n",
       "               Missouri         1519.71\n",
       "               Nebraska          169.98\n",
       "               North Dakota       99.99\n",
       "               Ohio             2969.55\n",
       "               South Dakota      179.94\n",
       "               Wisconsin        2389.62\n",
       "Pacific        California      19226.52\n",
       "               Oregon            959.85\n",
       "               Washington       1669.71\n",
       "South Central  Alabama           699.87\n",
       "               Arkansas          319.92\n",
       "               Kentucky         1309.77\n",
       "               Louisiana         479.88\n",
       "               Mississippi        89.97\n",
       "               Oklahoma          529.92\n",
       "               Tennessee        2799.48\n",
       "               Texas           13317.63\n",
       "Name: Product_Price, dtype: float64"
      ]
     },
     "execution_count": 69,
     "metadata": {},
     "output_type": "execute_result"
    }
   ],
   "source": [
    "condition1 = merged_df['Region'] == 'Pacific '\n",
    "condition2 = merged_df['Region'] == 'North Central'\n",
    "condition3 = merged_df['Region'] == 'South Central'\n",
    "\n",
    "filtered_df = merged_df[condition1 | condition2 | condition3]\n",
    "\n",
    "filtered_df.groupby(['Region', 'State']).sum()['Product_Price']"
   ]
  },
  {
   "cell_type": "code",
   "execution_count": null,
   "metadata": {},
   "outputs": [],
   "source": [
    "#The top 3 states in the top 3 region in sales revenue follows:\n",
    "#North Central: Illinois 4919.16, Michigan 3369.36, Ohio 2969.55\n",
    "#South Central: Texas 13317.64, Tennessee 2799.48, Kentucky 1309.77\n",
    "#Pacific California 19226.52, Washington 1669.71, Oregon 959.85"
   ]
  },
  {
   "cell_type": "code",
   "execution_count": 66,
   "metadata": {},
   "outputs": [
    {
     "data": {
      "text/plain": [
       "Region         State       \n",
       "Pacific        California      19226.52\n",
       "South Central  Texas           13317.63\n",
       "North Central  Illinois         4919.16\n",
       "               Michigan         3369.36\n",
       "               Ohio             2969.55\n",
       "South Central  Tennessee        2799.48\n",
       "North Central  Wisconsin        2389.62\n",
       "               Indiana          2059.59\n",
       "               Minnesota        1939.74\n",
       "Pacific        Washington       1669.71\n",
       "North Central  Missouri         1519.71\n",
       "South Central  Kentucky         1309.77\n",
       "Pacific        Oregon            959.85\n",
       "South Central  Alabama           699.87\n",
       "               Oklahoma          529.92\n",
       "North Central  Iowa              509.91\n",
       "South Central  Louisiana         479.88\n",
       "               Arkansas          319.92\n",
       "North Central  South Dakota      179.94\n",
       "               Nebraska          169.98\n",
       "               North Dakota       99.99\n",
       "South Central  Mississippi        89.97\n",
       "Name: Product_Price, dtype: float64"
      ]
     },
     "execution_count": 66,
     "metadata": {},
     "output_type": "execute_result"
    }
   ],
   "source": [
    "filtered_df.groupby(['Region', 'State']).sum()['Product_Price'].sort_values(ascending=False)"
   ]
  },
  {
   "cell_type": "code",
   "execution_count": 72,
   "metadata": {},
   "outputs": [],
   "source": [
    "#The top 3 overall states in sales revenue are California, Texas, and Illinois"
   ]
  },
  {
   "cell_type": "markdown",
   "metadata": {},
   "source": [
    "<h3> Question Twelve </h3> "
   ]
  },
  {
   "cell_type": "markdown",
   "metadata": {},
   "source": [
    "<b> C) Having identified the states within each region that bring in the most revenues - What are the top 3 Zip Codes we should focus our marketing efforts on based off Sales Revenues? </b>\n",
    "\n",
    "<b> <span style=\"color: Purple\"> Think carefully regarding how you could group the state and Zip Code data together with the functions you've learned previously! </b>"
   ]
  },
  {
   "cell_type": "markdown",
   "metadata": {},
   "source": [
    "<b><span style=\"color: #20b2aa\">Place your answer below here </style></b>"
   ]
  },
  {
   "cell_type": "code",
   "execution_count": 82,
   "metadata": {},
   "outputs": [],
   "source": [
    "california = filtered_df[filtered_df['State'] == 'California'].nlargest(3, columns='Product_Price')\n",
    "texas = filtered_df[filtered_df['State'] == 'Texas'].nlargest(3, columns='Product_Price')\n",
    "illinois = filtered_df[filtered_df['State'] == 'Illinois'].nlargest(3, columns='Product_Price')\n",
    "\n",
    "top_3_states = pd.concat([california, texas, illinois])"
   ]
  },
  {
   "cell_type": "code",
   "execution_count": 89,
   "metadata": {},
   "outputs": [
    {
     "data": {
      "text/plain": [
       "State       Zip Code\n",
       "California  92345       199.98\n",
       "            94533        99.99\n",
       "Illinois    60477        99.99\n",
       "            60586        99.99\n",
       "            60613        99.99\n",
       "Texas       77459       199.98\n",
       "            77494        99.99\n",
       "Name: Product_Price, dtype: float64"
      ]
     },
     "execution_count": 89,
     "metadata": {},
     "output_type": "execute_result"
    }
   ],
   "source": [
    "top_3_states['Zip Code'] = top_3_states['Zip Code'].astype('int')\n",
    "top_3_states.groupby(['State', 'Zip Code']).sum()['Product_Price']"
   ]
  },
  {
   "cell_type": "code",
   "execution_count": 91,
   "metadata": {},
   "outputs": [
    {
     "data": {
      "image/png": "[encoded data removed]",
      "text/plain": [
       "<Figure size 720x432 with 1 Axes>"
      ]
     },
     "metadata": {
      "needs_background": "light"
     },
     "output_type": "display_data"
    }
   ],
   "source": [
    "top_3_states.groupby(['State', 'Zip Code']).sum()['Product_Price'].sort_values().plot(kind='bar')\n",
    "plt.show()"
   ]
  },
  {
   "cell_type": "markdown",
   "metadata": {},
   "source": [
    "<h3> Question Thirteen </h3> \n",
    "\n",
    "And now we're at the END of the case study!\n",
    "\n",
    "<h1> WOOHOO! </h1>\n",
    "\n",
    "You've shown a tremendous amount of growth in this Track Stop where we've covered how to perform data cleansing using 4 novel techniques you've now mastered. \n",
    "\n",
    "Let's wrap this up with the question below.\n",
    "\n",
    "<b> In the box below, please write your recommendations to Management regarding which of the Regions, States and Zip Codes should be targeted for marketing efforts going forward?\n",
    "\n"
   ]
  },
  {
   "cell_type": "markdown",
   "metadata": {},
   "source": [
    "<b><span style=\"color: #20b2aa\">Place your answer below here </style></b>"
   ]
  },
  {
   "cell_type": "code",
   "execution_count": 92,
   "metadata": {},
   "outputs": [],
   "source": [
    "# the top zip codes to focus marketings efforts based on highest sales revenue by region, state, and zip code follows\n",
    "# 77459, 92345, 77494, 60613, 60586, 60477, 94533\n",
    "# This is based simply on where sales is highest by region, state, and zipcode. It is possible there are states outside the\n",
    "# highest selling regions that are performing even better. Also maybe there is a way to find out which place are potentially \n",
    "# growing, by looking at sales over time versus a simple snapshot. \n",
    "#Best!"
   ]
  },
  {
   "cell_type": "markdown",
   "metadata": {},
   "source": [
    "![Tracked_Logo](img/finish_run.png)\n",
    "<b><center>And we're done with Data Cleansing! Woohoo! </center></b>"
   ]
  }
 ],
 "metadata": {
  "kernelspec": {
   "display_name": "Python 3",
   "language": "python",
   "name": "python3"
  },
  "language_info": {
   "codemirror_mode": {
    "name": "ipython",
    "version": 3
   },
   "file_extension": ".py",
   "mimetype": "text/x-python",
   "name": "python",
   "nbconvert_exporter": "python",
   "pygments_lexer": "ipython3",
   "version": "3.8.5"
  }
 },
 "nbformat": 4,
 "nbformat_minor": 2
}
